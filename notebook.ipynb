{
 "cells": [
  {
   "cell_type": "markdown",
   "id": "bb77d8b3-7c02-4c4d-a5c9-14e75333fcc1",
   "metadata": {},
   "source": [
    "<h1>Project Data Analyst: Bike Sharing Dataset</h1>\n",
    "<li>Name: Faiz Fajar</li>\n",
    "<li>Email: faizfjr666@gmail.com</li>\n",
    "<li>ID Dicoding: faiz_fajar28</li>"
   ]
  },
  {
   "cell_type": "markdown",
   "id": "efef59e3-c1aa-4492-9401-24f3204e06ef",
   "metadata": {},
   "source": [
    "<h2>Menentukan Pertanyaan Bisnis</h2>"
   ]
  },
  {
   "cell_type": "markdown",
   "id": "f40ed163-fb03-47bc-93dd-b4016ec16894",
   "metadata": {},
   "source": [
    "<ul>\n",
    "    <li>\n",
    "        Tabel \"Days\"\n",
    "        <ul>\n",
    "            <li>\n",
    "                Bagaimana pola penyewaan sepeda berubah berdasarkan musim, bulan, dan kondisi cuaca?\n",
    "            </li>\n",
    "            <li>\n",
    "                Apa dampak hari libur dan status working day terhadap total penyewaan sepeda harian?\n",
    "            </li>\n",
    "        </ul>\n",
    "    </li>\n",
    "    <li>\n",
    "        Tabel \"Hours\"\n",
    "        <ul>\n",
    "            <li>\n",
    "                Pada jam berapa terjadi puncak penyewaan sepeda, dan bagaimana pola ini berbeda antara hari kerja dan akhir pekan?\n",
    "            </li>\n",
    "            <li>\n",
    "                Bagaimana pengaruh suhu dan kelembapan terhadap penyewaan sepeda per jam, terutama dalam konteks kondisi cuaca?\n",
    "            </li>\n",
    "        </ul>\n",
    "    </li>\n",
    "</ul>"
   ]
  },
  {
   "cell_type": "markdown",
   "id": "9f696c56-1254-4bb3-aa2d-7333a6a91db3",
   "metadata": {},
   "source": [
    "<h2>Import Library/Packages yang Digunakan</h2>"
   ]
  },
  {
   "cell_type": "code",
   "execution_count": 1,
   "id": "df4b6d19-8884-4bcd-9dcf-bb21fa1741a9",
   "metadata": {},
   "outputs": [],
   "source": [
    "import numpy as np\n",
    "import pandas as pd\n",
    "import matplotlib.pyplot as plt\n",
    "import seaborn as sns"
   ]
  },
  {
   "cell_type": "markdown",
   "id": "1a4b800e-3ed0-4864-8101-415206ffbfdb",
   "metadata": {},
   "source": [
    "<h2>Data Wrangling</h2>"
   ]
  },
  {
   "cell_type": "markdown",
   "id": "70ac86df-fb78-4747-ac8a-66e4419b3963",
   "metadata": {},
   "source": [
    "<h3>Gathering Data</h3>"
   ]
  },
  {
   "cell_type": "markdown",
   "id": "9fa52dbf-660b-48e3-b917-5aa690f06536",
   "metadata": {},
   "source": [
    "<h4>Memuat Tabel \"Day\"</h4>"
   ]
  },
  {
   "cell_type": "code",
   "execution_count": 2,
   "id": "a5e16cd4-0e86-4744-861b-81bd73cea6de",
   "metadata": {},
   "outputs": [
    {
     "data": {
      "text/html": [
       "<div>\n",
       "<style scoped>\n",
       "    .dataframe tbody tr th:only-of-type {\n",
       "        vertical-align: middle;\n",
       "    }\n",
       "\n",
       "    .dataframe tbody tr th {\n",
       "        vertical-align: top;\n",
       "    }\n",
       "\n",
       "    .dataframe thead th {\n",
       "        text-align: right;\n",
       "    }\n",
       "</style>\n",
       "<table border=\"1\" class=\"dataframe\">\n",
       "  <thead>\n",
       "    <tr style=\"text-align: right;\">\n",
       "      <th></th>\n",
       "      <th>instant</th>\n",
       "      <th>dteday</th>\n",
       "      <th>season</th>\n",
       "      <th>yr</th>\n",
       "      <th>mnth</th>\n",
       "      <th>holiday</th>\n",
       "      <th>weekday</th>\n",
       "      <th>workingday</th>\n",
       "      <th>weathersit</th>\n",
       "      <th>temp</th>\n",
       "      <th>atemp</th>\n",
       "      <th>hum</th>\n",
       "      <th>windspeed</th>\n",
       "      <th>casual</th>\n",
       "      <th>registered</th>\n",
       "      <th>cnt</th>\n",
       "    </tr>\n",
       "  </thead>\n",
       "  <tbody>\n",
       "    <tr>\n",
       "      <th>0</th>\n",
       "      <td>1</td>\n",
       "      <td>2011-01-01</td>\n",
       "      <td>1</td>\n",
       "      <td>0</td>\n",
       "      <td>1</td>\n",
       "      <td>0</td>\n",
       "      <td>6</td>\n",
       "      <td>0</td>\n",
       "      <td>2</td>\n",
       "      <td>0.344167</td>\n",
       "      <td>0.363625</td>\n",
       "      <td>0.805833</td>\n",
       "      <td>0.160446</td>\n",
       "      <td>331</td>\n",
       "      <td>654</td>\n",
       "      <td>985</td>\n",
       "    </tr>\n",
       "    <tr>\n",
       "      <th>1</th>\n",
       "      <td>2</td>\n",
       "      <td>2011-01-02</td>\n",
       "      <td>1</td>\n",
       "      <td>0</td>\n",
       "      <td>1</td>\n",
       "      <td>0</td>\n",
       "      <td>0</td>\n",
       "      <td>0</td>\n",
       "      <td>2</td>\n",
       "      <td>0.363478</td>\n",
       "      <td>0.353739</td>\n",
       "      <td>0.696087</td>\n",
       "      <td>0.248539</td>\n",
       "      <td>131</td>\n",
       "      <td>670</td>\n",
       "      <td>801</td>\n",
       "    </tr>\n",
       "    <tr>\n",
       "      <th>2</th>\n",
       "      <td>3</td>\n",
       "      <td>2011-01-03</td>\n",
       "      <td>1</td>\n",
       "      <td>0</td>\n",
       "      <td>1</td>\n",
       "      <td>0</td>\n",
       "      <td>1</td>\n",
       "      <td>1</td>\n",
       "      <td>1</td>\n",
       "      <td>0.196364</td>\n",
       "      <td>0.189405</td>\n",
       "      <td>0.437273</td>\n",
       "      <td>0.248309</td>\n",
       "      <td>120</td>\n",
       "      <td>1229</td>\n",
       "      <td>1349</td>\n",
       "    </tr>\n",
       "    <tr>\n",
       "      <th>3</th>\n",
       "      <td>4</td>\n",
       "      <td>2011-01-04</td>\n",
       "      <td>1</td>\n",
       "      <td>0</td>\n",
       "      <td>1</td>\n",
       "      <td>0</td>\n",
       "      <td>2</td>\n",
       "      <td>1</td>\n",
       "      <td>1</td>\n",
       "      <td>0.200000</td>\n",
       "      <td>0.212122</td>\n",
       "      <td>0.590435</td>\n",
       "      <td>0.160296</td>\n",
       "      <td>108</td>\n",
       "      <td>1454</td>\n",
       "      <td>1562</td>\n",
       "    </tr>\n",
       "    <tr>\n",
       "      <th>4</th>\n",
       "      <td>5</td>\n",
       "      <td>2011-01-05</td>\n",
       "      <td>1</td>\n",
       "      <td>0</td>\n",
       "      <td>1</td>\n",
       "      <td>0</td>\n",
       "      <td>3</td>\n",
       "      <td>1</td>\n",
       "      <td>1</td>\n",
       "      <td>0.226957</td>\n",
       "      <td>0.229270</td>\n",
       "      <td>0.436957</td>\n",
       "      <td>0.186900</td>\n",
       "      <td>82</td>\n",
       "      <td>1518</td>\n",
       "      <td>1600</td>\n",
       "    </tr>\n",
       "  </tbody>\n",
       "</table>\n",
       "</div>"
      ],
      "text/plain": [
       "   instant      dteday  season  yr  mnth  holiday  weekday  workingday  \\\n",
       "0        1  2011-01-01       1   0     1        0        6           0   \n",
       "1        2  2011-01-02       1   0     1        0        0           0   \n",
       "2        3  2011-01-03       1   0     1        0        1           1   \n",
       "3        4  2011-01-04       1   0     1        0        2           1   \n",
       "4        5  2011-01-05       1   0     1        0        3           1   \n",
       "\n",
       "   weathersit      temp     atemp       hum  windspeed  casual  registered  \\\n",
       "0           2  0.344167  0.363625  0.805833   0.160446     331         654   \n",
       "1           2  0.363478  0.353739  0.696087   0.248539     131         670   \n",
       "2           1  0.196364  0.189405  0.437273   0.248309     120        1229   \n",
       "3           1  0.200000  0.212122  0.590435   0.160296     108        1454   \n",
       "4           1  0.226957  0.229270  0.436957   0.186900      82        1518   \n",
       "\n",
       "    cnt  \n",
       "0   985  \n",
       "1   801  \n",
       "2  1349  \n",
       "3  1562  \n",
       "4  1600  "
      ]
     },
     "execution_count": 2,
     "metadata": {},
     "output_type": "execute_result"
    }
   ],
   "source": [
    "days_df = pd.read_csv(\"Bike-sharing-dataset/day.csv\")\n",
    "days_df.head()"
   ]
  },
  {
   "cell_type": "markdown",
   "id": "6af154bf-b10a-4d99-882a-78e81f9d094d",
   "metadata": {},
   "source": [
    "<h4>Memuat Tabel \"Hour\"</h4>"
   ]
  },
  {
   "cell_type": "code",
   "execution_count": 3,
   "id": "cb883275-07e8-4cc0-bbad-0f52825e088a",
   "metadata": {
    "jupyter": {
     "source_hidden": true
    },
    "scrolled": true
   },
   "outputs": [
    {
     "data": {
      "text/html": [
       "<div>\n",
       "<style scoped>\n",
       "    .dataframe tbody tr th:only-of-type {\n",
       "        vertical-align: middle;\n",
       "    }\n",
       "\n",
       "    .dataframe tbody tr th {\n",
       "        vertical-align: top;\n",
       "    }\n",
       "\n",
       "    .dataframe thead th {\n",
       "        text-align: right;\n",
       "    }\n",
       "</style>\n",
       "<table border=\"1\" class=\"dataframe\">\n",
       "  <thead>\n",
       "    <tr style=\"text-align: right;\">\n",
       "      <th></th>\n",
       "      <th>instant</th>\n",
       "      <th>dteday</th>\n",
       "      <th>season</th>\n",
       "      <th>yr</th>\n",
       "      <th>mnth</th>\n",
       "      <th>hr</th>\n",
       "      <th>holiday</th>\n",
       "      <th>weekday</th>\n",
       "      <th>workingday</th>\n",
       "      <th>weathersit</th>\n",
       "      <th>temp</th>\n",
       "      <th>atemp</th>\n",
       "      <th>hum</th>\n",
       "      <th>windspeed</th>\n",
       "      <th>casual</th>\n",
       "      <th>registered</th>\n",
       "      <th>cnt</th>\n",
       "    </tr>\n",
       "  </thead>\n",
       "  <tbody>\n",
       "    <tr>\n",
       "      <th>0</th>\n",
       "      <td>1</td>\n",
       "      <td>2011-01-01</td>\n",
       "      <td>1</td>\n",
       "      <td>0</td>\n",
       "      <td>1</td>\n",
       "      <td>0</td>\n",
       "      <td>0</td>\n",
       "      <td>6</td>\n",
       "      <td>0</td>\n",
       "      <td>1</td>\n",
       "      <td>0.24</td>\n",
       "      <td>0.2879</td>\n",
       "      <td>0.81</td>\n",
       "      <td>0.0</td>\n",
       "      <td>3</td>\n",
       "      <td>13</td>\n",
       "      <td>16</td>\n",
       "    </tr>\n",
       "    <tr>\n",
       "      <th>1</th>\n",
       "      <td>2</td>\n",
       "      <td>2011-01-01</td>\n",
       "      <td>1</td>\n",
       "      <td>0</td>\n",
       "      <td>1</td>\n",
       "      <td>1</td>\n",
       "      <td>0</td>\n",
       "      <td>6</td>\n",
       "      <td>0</td>\n",
       "      <td>1</td>\n",
       "      <td>0.22</td>\n",
       "      <td>0.2727</td>\n",
       "      <td>0.80</td>\n",
       "      <td>0.0</td>\n",
       "      <td>8</td>\n",
       "      <td>32</td>\n",
       "      <td>40</td>\n",
       "    </tr>\n",
       "    <tr>\n",
       "      <th>2</th>\n",
       "      <td>3</td>\n",
       "      <td>2011-01-01</td>\n",
       "      <td>1</td>\n",
       "      <td>0</td>\n",
       "      <td>1</td>\n",
       "      <td>2</td>\n",
       "      <td>0</td>\n",
       "      <td>6</td>\n",
       "      <td>0</td>\n",
       "      <td>1</td>\n",
       "      <td>0.22</td>\n",
       "      <td>0.2727</td>\n",
       "      <td>0.80</td>\n",
       "      <td>0.0</td>\n",
       "      <td>5</td>\n",
       "      <td>27</td>\n",
       "      <td>32</td>\n",
       "    </tr>\n",
       "    <tr>\n",
       "      <th>3</th>\n",
       "      <td>4</td>\n",
       "      <td>2011-01-01</td>\n",
       "      <td>1</td>\n",
       "      <td>0</td>\n",
       "      <td>1</td>\n",
       "      <td>3</td>\n",
       "      <td>0</td>\n",
       "      <td>6</td>\n",
       "      <td>0</td>\n",
       "      <td>1</td>\n",
       "      <td>0.24</td>\n",
       "      <td>0.2879</td>\n",
       "      <td>0.75</td>\n",
       "      <td>0.0</td>\n",
       "      <td>3</td>\n",
       "      <td>10</td>\n",
       "      <td>13</td>\n",
       "    </tr>\n",
       "    <tr>\n",
       "      <th>4</th>\n",
       "      <td>5</td>\n",
       "      <td>2011-01-01</td>\n",
       "      <td>1</td>\n",
       "      <td>0</td>\n",
       "      <td>1</td>\n",
       "      <td>4</td>\n",
       "      <td>0</td>\n",
       "      <td>6</td>\n",
       "      <td>0</td>\n",
       "      <td>1</td>\n",
       "      <td>0.24</td>\n",
       "      <td>0.2879</td>\n",
       "      <td>0.75</td>\n",
       "      <td>0.0</td>\n",
       "      <td>0</td>\n",
       "      <td>1</td>\n",
       "      <td>1</td>\n",
       "    </tr>\n",
       "  </tbody>\n",
       "</table>\n",
       "</div>"
      ],
      "text/plain": [
       "   instant      dteday  season  yr  mnth  hr  holiday  weekday  workingday  \\\n",
       "0        1  2011-01-01       1   0     1   0        0        6           0   \n",
       "1        2  2011-01-01       1   0     1   1        0        6           0   \n",
       "2        3  2011-01-01       1   0     1   2        0        6           0   \n",
       "3        4  2011-01-01       1   0     1   3        0        6           0   \n",
       "4        5  2011-01-01       1   0     1   4        0        6           0   \n",
       "\n",
       "   weathersit  temp   atemp   hum  windspeed  casual  registered  cnt  \n",
       "0           1  0.24  0.2879  0.81        0.0       3          13   16  \n",
       "1           1  0.22  0.2727  0.80        0.0       8          32   40  \n",
       "2           1  0.22  0.2727  0.80        0.0       5          27   32  \n",
       "3           1  0.24  0.2879  0.75        0.0       3          10   13  \n",
       "4           1  0.24  0.2879  0.75        0.0       0           1    1  "
      ]
     },
     "execution_count": 3,
     "metadata": {},
     "output_type": "execute_result"
    }
   ],
   "source": [
    "hours_df = pd.read_csv(\"Bike-sharing-dataset/hour.csv\")\n",
    "hours_df.head()"
   ]
  },
  {
   "cell_type": "markdown",
   "id": "5d49726a-99fd-48d4-9063-7c8b316c7c7e",
   "metadata": {},
   "source": [
    "<h3>Assessing Data</h3>"
   ]
  },
  {
   "cell_type": "markdown",
   "id": "ccd545b2-91b9-4f4e-9555-c38bc2c39d62",
   "metadata": {},
   "source": [
    "<h4>Menilai Tabel \"Day\"</h4>"
   ]
  },
  {
   "cell_type": "code",
   "execution_count": 4,
   "id": "cf34fc8c-1c8d-4204-a4db-7acf49a70c53",
   "metadata": {
    "jupyter": {
     "source_hidden": true
    },
    "scrolled": true
   },
   "outputs": [
    {
     "name": "stdout",
     "output_type": "stream",
     "text": [
      "<class 'pandas.core.frame.DataFrame'>\n",
      "RangeIndex: 731 entries, 0 to 730\n",
      "Data columns (total 16 columns):\n",
      " #   Column      Non-Null Count  Dtype  \n",
      "---  ------      --------------  -----  \n",
      " 0   instant     731 non-null    int64  \n",
      " 1   dteday      731 non-null    object \n",
      " 2   season      731 non-null    int64  \n",
      " 3   yr          731 non-null    int64  \n",
      " 4   mnth        731 non-null    int64  \n",
      " 5   holiday     731 non-null    int64  \n",
      " 6   weekday     731 non-null    int64  \n",
      " 7   workingday  731 non-null    int64  \n",
      " 8   weathersit  731 non-null    int64  \n",
      " 9   temp        731 non-null    float64\n",
      " 10  atemp       731 non-null    float64\n",
      " 11  hum         731 non-null    float64\n",
      " 12  windspeed   731 non-null    float64\n",
      " 13  casual      731 non-null    int64  \n",
      " 14  registered  731 non-null    int64  \n",
      " 15  cnt         731 non-null    int64  \n",
      "dtypes: float64(4), int64(11), object(1)\n",
      "memory usage: 91.5+ KB\n"
     ]
    }
   ],
   "source": [
    "days_df.info()"
   ]
  },
  {
   "cell_type": "markdown",
   "id": "f53caccf-a557-4279-abe0-8def0aee8a26",
   "metadata": {},
   "source": [
    "<p><strong>Insight:</strong></p>\n",
    "<ul>\n",
    "    <li>Nama kolom kurang deskriptif dan ambigu.</li>\n",
    "        <ul>\n",
    "            <li>Kolom dengan Singkatan / Kurang Deskriptif.\n",
    "                <ul>\n",
    "                    <li>instant-> record_id</li>\n",
    "                    <li>dteday -> date</li>\n",
    "                    <li>mnth -> month</li>\n",
    "                    <li>weathersit -> weather_condition</li>\n",
    "                    <li>cnt -> total_rentals</li>\n",
    "                </ul>\n",
    "            </li>\n",
    "            <li>Kolom dengan Nilai Ternormalisasi.\n",
    "                <br>\n",
    "                Untuk menghindari kesalahpahaman bahwa nilai adalah aktual (bukan ternormalisasi):\n",
    "                <ul>\n",
    "                    <li>temp -> normalized_temperature</li>\n",
    "                    <li>atemp -> normalized_feeling_temperature</li>\n",
    "                    <li>hum -> normalized_humidity</li>\n",
    "                    <li>windspeed -> normalized_wind_speed</li>\n",
    "                </ul>\n",
    "            </li>\n",
    "            <li>Kolom Kategorikal dengan Kode Numerik.\n",
    "                <br>\n",
    "                Tambahkan suffix \"_code\" untuk menegaskan bahwa nilai adalah kode:\n",
    "                <ul>\n",
    "                    <li>yr -> year_code</li>\n",
    "                    <li>season -> season_code</li>\n",
    "                    <li>weekday -> weekday_code</li>\n",
    "                </ul>\n",
    "            </li>\n",
    "            <li>Kolom yang Membutuhkan Konteks Lebih Jelas.\n",
    "                <br>\n",
    "                Tambahkan suffix \"_users\" untuk menghindari ambiguitas:\n",
    "                <ul>\n",
    "                    <li>casual  -> casual_users</li>\n",
    "                    <li>registered -> registered_users</li>\n",
    "                </ul>\n",
    "            </li>\n",
    "        </ul>\n",
    "    <li>Kolom tanggal seharusnya bertipe datetime untuk memudahkan analisis temporal (e.g., filtering berdasarkan bulan/tahun).</li>\n",
    "    <li>Kolom dengan kode numerik (nilai diskret terbatas) sebaiknya diubah ke tipe kategorikal atau boolean.\n",
    "        <ul>\n",
    "            <li>Kategorikal:\n",
    "                <ul>\n",
    "                    <li>season</li>\n",
    "                    <li>yr</li>\n",
    "                    <li>mnth</li>\n",
    "                    <li>weekday</li>\n",
    "                    <li>weathersit</li>\n",
    "                </ul>\n",
    "            </li>\n",
    "            <li>Boolean:\n",
    "                <ul>\n",
    "                    <li>holiday</li>\n",
    "                    <li>workingday</li>\n",
    "                </ul>\n",
    "            </li>\n",
    "        </ul>\n",
    "    </li>\n",
    "</ul>"
   ]
  },
  {
   "cell_type": "code",
   "execution_count": 5,
   "id": "c439f4f3-d5b3-4f84-8659-33e30612ae49",
   "metadata": {
    "jupyter": {
     "source_hidden": true
    },
    "scrolled": true
   },
   "outputs": [
    {
     "data": {
      "text/plain": [
       "instant       0\n",
       "dteday        0\n",
       "season        0\n",
       "yr            0\n",
       "mnth          0\n",
       "holiday       0\n",
       "weekday       0\n",
       "workingday    0\n",
       "weathersit    0\n",
       "temp          0\n",
       "atemp         0\n",
       "hum           0\n",
       "windspeed     0\n",
       "casual        0\n",
       "registered    0\n",
       "cnt           0\n",
       "dtype: int64"
      ]
     },
     "execution_count": 5,
     "metadata": {},
     "output_type": "execute_result"
    }
   ],
   "source": [
    "days_df.isna().sum()"
   ]
  },
  {
   "cell_type": "code",
   "execution_count": 6,
   "id": "3b737ea1-8573-402a-8814-f32cdd50859f",
   "metadata": {
    "jupyter": {
     "source_hidden": true
    }
   },
   "outputs": [
    {
     "name": "stdout",
     "output_type": "stream",
     "text": [
      "Jumlah duplikasi:  0\n"
     ]
    }
   ],
   "source": [
    "print(\"Jumlah duplikasi: \", days_df.duplicated().sum())"
   ]
  },
  {
   "cell_type": "code",
   "execution_count": 7,
   "id": "78cbe1c3-53d9-415c-8156-57d4e8f2eda7",
   "metadata": {
    "jupyter": {
     "source_hidden": true
    },
    "scrolled": true
   },
   "outputs": [
    {
     "data": {
      "text/html": [
       "<div>\n",
       "<style scoped>\n",
       "    .dataframe tbody tr th:only-of-type {\n",
       "        vertical-align: middle;\n",
       "    }\n",
       "\n",
       "    .dataframe tbody tr th {\n",
       "        vertical-align: top;\n",
       "    }\n",
       "\n",
       "    .dataframe thead th {\n",
       "        text-align: right;\n",
       "    }\n",
       "</style>\n",
       "<table border=\"1\" class=\"dataframe\">\n",
       "  <thead>\n",
       "    <tr style=\"text-align: right;\">\n",
       "      <th></th>\n",
       "      <th>instant</th>\n",
       "      <th>season</th>\n",
       "      <th>yr</th>\n",
       "      <th>mnth</th>\n",
       "      <th>holiday</th>\n",
       "      <th>weekday</th>\n",
       "      <th>workingday</th>\n",
       "      <th>weathersit</th>\n",
       "      <th>temp</th>\n",
       "      <th>atemp</th>\n",
       "      <th>hum</th>\n",
       "      <th>windspeed</th>\n",
       "      <th>casual</th>\n",
       "      <th>registered</th>\n",
       "      <th>cnt</th>\n",
       "    </tr>\n",
       "  </thead>\n",
       "  <tbody>\n",
       "    <tr>\n",
       "      <th>count</th>\n",
       "      <td>731.000000</td>\n",
       "      <td>731.000000</td>\n",
       "      <td>731.000000</td>\n",
       "      <td>731.000000</td>\n",
       "      <td>731.000000</td>\n",
       "      <td>731.000000</td>\n",
       "      <td>731.000000</td>\n",
       "      <td>731.000000</td>\n",
       "      <td>731.000000</td>\n",
       "      <td>731.000000</td>\n",
       "      <td>731.000000</td>\n",
       "      <td>731.000000</td>\n",
       "      <td>731.000000</td>\n",
       "      <td>731.000000</td>\n",
       "      <td>731.000000</td>\n",
       "    </tr>\n",
       "    <tr>\n",
       "      <th>mean</th>\n",
       "      <td>366.000000</td>\n",
       "      <td>2.496580</td>\n",
       "      <td>0.500684</td>\n",
       "      <td>6.519836</td>\n",
       "      <td>0.028728</td>\n",
       "      <td>2.997264</td>\n",
       "      <td>0.683995</td>\n",
       "      <td>1.395349</td>\n",
       "      <td>0.495385</td>\n",
       "      <td>0.474354</td>\n",
       "      <td>0.627894</td>\n",
       "      <td>0.190486</td>\n",
       "      <td>848.176471</td>\n",
       "      <td>3656.172367</td>\n",
       "      <td>4504.348837</td>\n",
       "    </tr>\n",
       "    <tr>\n",
       "      <th>std</th>\n",
       "      <td>211.165812</td>\n",
       "      <td>1.110807</td>\n",
       "      <td>0.500342</td>\n",
       "      <td>3.451913</td>\n",
       "      <td>0.167155</td>\n",
       "      <td>2.004787</td>\n",
       "      <td>0.465233</td>\n",
       "      <td>0.544894</td>\n",
       "      <td>0.183051</td>\n",
       "      <td>0.162961</td>\n",
       "      <td>0.142429</td>\n",
       "      <td>0.077498</td>\n",
       "      <td>686.622488</td>\n",
       "      <td>1560.256377</td>\n",
       "      <td>1937.211452</td>\n",
       "    </tr>\n",
       "    <tr>\n",
       "      <th>min</th>\n",
       "      <td>1.000000</td>\n",
       "      <td>1.000000</td>\n",
       "      <td>0.000000</td>\n",
       "      <td>1.000000</td>\n",
       "      <td>0.000000</td>\n",
       "      <td>0.000000</td>\n",
       "      <td>0.000000</td>\n",
       "      <td>1.000000</td>\n",
       "      <td>0.059130</td>\n",
       "      <td>0.079070</td>\n",
       "      <td>0.000000</td>\n",
       "      <td>0.022392</td>\n",
       "      <td>2.000000</td>\n",
       "      <td>20.000000</td>\n",
       "      <td>22.000000</td>\n",
       "    </tr>\n",
       "    <tr>\n",
       "      <th>25%</th>\n",
       "      <td>183.500000</td>\n",
       "      <td>2.000000</td>\n",
       "      <td>0.000000</td>\n",
       "      <td>4.000000</td>\n",
       "      <td>0.000000</td>\n",
       "      <td>1.000000</td>\n",
       "      <td>0.000000</td>\n",
       "      <td>1.000000</td>\n",
       "      <td>0.337083</td>\n",
       "      <td>0.337842</td>\n",
       "      <td>0.520000</td>\n",
       "      <td>0.134950</td>\n",
       "      <td>315.500000</td>\n",
       "      <td>2497.000000</td>\n",
       "      <td>3152.000000</td>\n",
       "    </tr>\n",
       "    <tr>\n",
       "      <th>50%</th>\n",
       "      <td>366.000000</td>\n",
       "      <td>3.000000</td>\n",
       "      <td>1.000000</td>\n",
       "      <td>7.000000</td>\n",
       "      <td>0.000000</td>\n",
       "      <td>3.000000</td>\n",
       "      <td>1.000000</td>\n",
       "      <td>1.000000</td>\n",
       "      <td>0.498333</td>\n",
       "      <td>0.486733</td>\n",
       "      <td>0.626667</td>\n",
       "      <td>0.180975</td>\n",
       "      <td>713.000000</td>\n",
       "      <td>3662.000000</td>\n",
       "      <td>4548.000000</td>\n",
       "    </tr>\n",
       "    <tr>\n",
       "      <th>75%</th>\n",
       "      <td>548.500000</td>\n",
       "      <td>3.000000</td>\n",
       "      <td>1.000000</td>\n",
       "      <td>10.000000</td>\n",
       "      <td>0.000000</td>\n",
       "      <td>5.000000</td>\n",
       "      <td>1.000000</td>\n",
       "      <td>2.000000</td>\n",
       "      <td>0.655417</td>\n",
       "      <td>0.608602</td>\n",
       "      <td>0.730209</td>\n",
       "      <td>0.233214</td>\n",
       "      <td>1096.000000</td>\n",
       "      <td>4776.500000</td>\n",
       "      <td>5956.000000</td>\n",
       "    </tr>\n",
       "    <tr>\n",
       "      <th>max</th>\n",
       "      <td>731.000000</td>\n",
       "      <td>4.000000</td>\n",
       "      <td>1.000000</td>\n",
       "      <td>12.000000</td>\n",
       "      <td>1.000000</td>\n",
       "      <td>6.000000</td>\n",
       "      <td>1.000000</td>\n",
       "      <td>3.000000</td>\n",
       "      <td>0.861667</td>\n",
       "      <td>0.840896</td>\n",
       "      <td>0.972500</td>\n",
       "      <td>0.507463</td>\n",
       "      <td>3410.000000</td>\n",
       "      <td>6946.000000</td>\n",
       "      <td>8714.000000</td>\n",
       "    </tr>\n",
       "  </tbody>\n",
       "</table>\n",
       "</div>"
      ],
      "text/plain": [
       "          instant      season          yr        mnth     holiday     weekday  \\\n",
       "count  731.000000  731.000000  731.000000  731.000000  731.000000  731.000000   \n",
       "mean   366.000000    2.496580    0.500684    6.519836    0.028728    2.997264   \n",
       "std    211.165812    1.110807    0.500342    3.451913    0.167155    2.004787   \n",
       "min      1.000000    1.000000    0.000000    1.000000    0.000000    0.000000   \n",
       "25%    183.500000    2.000000    0.000000    4.000000    0.000000    1.000000   \n",
       "50%    366.000000    3.000000    1.000000    7.000000    0.000000    3.000000   \n",
       "75%    548.500000    3.000000    1.000000   10.000000    0.000000    5.000000   \n",
       "max    731.000000    4.000000    1.000000   12.000000    1.000000    6.000000   \n",
       "\n",
       "       workingday  weathersit        temp       atemp         hum   windspeed  \\\n",
       "count  731.000000  731.000000  731.000000  731.000000  731.000000  731.000000   \n",
       "mean     0.683995    1.395349    0.495385    0.474354    0.627894    0.190486   \n",
       "std      0.465233    0.544894    0.183051    0.162961    0.142429    0.077498   \n",
       "min      0.000000    1.000000    0.059130    0.079070    0.000000    0.022392   \n",
       "25%      0.000000    1.000000    0.337083    0.337842    0.520000    0.134950   \n",
       "50%      1.000000    1.000000    0.498333    0.486733    0.626667    0.180975   \n",
       "75%      1.000000    2.000000    0.655417    0.608602    0.730209    0.233214   \n",
       "max      1.000000    3.000000    0.861667    0.840896    0.972500    0.507463   \n",
       "\n",
       "            casual   registered          cnt  \n",
       "count   731.000000   731.000000   731.000000  \n",
       "mean    848.176471  3656.172367  4504.348837  \n",
       "std     686.622488  1560.256377  1937.211452  \n",
       "min       2.000000    20.000000    22.000000  \n",
       "25%     315.500000  2497.000000  3152.000000  \n",
       "50%     713.000000  3662.000000  4548.000000  \n",
       "75%    1096.000000  4776.500000  5956.000000  \n",
       "max    3410.000000  6946.000000  8714.000000  "
      ]
     },
     "execution_count": 7,
     "metadata": {},
     "output_type": "execute_result"
    }
   ],
   "source": [
    "days_df.describe()"
   ]
  },
  {
   "cell_type": "markdown",
   "id": "cbdf5481-c094-459c-ae0f-9af760b754cd",
   "metadata": {},
   "source": [
    "<p><strong>Insight:</strong></p>\n",
    "<ul>\n",
    "    <li>\n",
    "        Kolom weathersit (Kondisi Cuaca).\n",
    "        <ul>\n",
    "            <li>\n",
    "                Masalah:\n",
    "                <ul>\n",
    "                    <li>\n",
    "                        Deskripsi awal pada Readme.txt menyatakan nilai weathersit adalah 1-4, tapi dalam describe() max = 3.\n",
    "                    </li>\n",
    "                    <li>\n",
    "                        Kemungkinan penyebab:\n",
    "                        <ul>\n",
    "                            <li>\n",
    "                                Data tidak memiliki kategori 4 (Heavy Rain + Ice Pallets + Thunderstorm + Mist, Snow + Fog),\n",
    "                            </li>\n",
    "                            <li>\n",
    "                                atau ada kesalahan input data (kategori 4 tidak tercatat).\n",
    "                            </li>\n",
    "                        </ul>\n",
    "                    </li>\n",
    "                </ul>\n",
    "            </li>\n",
    "            <li>\n",
    "                Solusi:\n",
    "                <ul>\n",
    "                    <li>\n",
    "                        Periksa distribusi nilai weathersit dengan value_counts() untuk memastikan konsistensi.\n",
    "                    </li>\n",
    "                </ul>\n",
    "            </li>\n",
    "        </ul>\n",
    "    </li>\n",
    "    <li>\n",
    "        Kolom hum (Kelembapan).\n",
    "        <ul>\n",
    "            <li>\n",
    "                Masalah:\n",
    "                <ul>\n",
    "                    <li>\n",
    "                        Nilai min = 0% (pada kolom hum).\n",
    "                    </li>\n",
    "                    <li>\n",
    "                        Kelembapan 0% secara fisik tidak mungkin terjadi di kondisi nyata (bahkan di gurun sekalipun kelembapan minimum ~5-10%).\n",
    "                    </li>\n",
    "                    <li>\n",
    "                        Kemungkinan penyebab:\n",
    "                        <ul>\n",
    "                            <li>\n",
    "                                Kesalahan sensor atau input data.\n",
    "                            </li>\n",
    "                        </ul>\n",
    "                    </li>\n",
    "                </ul>\n",
    "            </li>\n",
    "            <li>\n",
    "                Solusi:\n",
    "                <ul>\n",
    "                    <li>\n",
    "                        Periksa data dengan hum = 0 dan lakukan imputasi atau hapus baris tersebut jika jelas merupakan noise.\n",
    "                    </li>\n",
    "                </ul>\n",
    "            </li>\n",
    "        </ul>\n",
    "    </li>\n",
    "</ul>"
   ]
  },
  {
   "cell_type": "markdown",
   "id": "7fcab5ef-41e3-4a60-b67d-f11d9c07e791",
   "metadata": {},
   "source": [
    "<h4>Menilai Tabel \"Hour\"</h4>"
   ]
  },
  {
   "cell_type": "code",
   "execution_count": 8,
   "id": "217b6445-a5cf-44e9-9671-80dae663d217",
   "metadata": {
    "jupyter": {
     "source_hidden": true
    },
    "scrolled": true
   },
   "outputs": [
    {
     "name": "stdout",
     "output_type": "stream",
     "text": [
      "<class 'pandas.core.frame.DataFrame'>\n",
      "RangeIndex: 17379 entries, 0 to 17378\n",
      "Data columns (total 17 columns):\n",
      " #   Column      Non-Null Count  Dtype  \n",
      "---  ------      --------------  -----  \n",
      " 0   instant     17379 non-null  int64  \n",
      " 1   dteday      17379 non-null  object \n",
      " 2   season      17379 non-null  int64  \n",
      " 3   yr          17379 non-null  int64  \n",
      " 4   mnth        17379 non-null  int64  \n",
      " 5   hr          17379 non-null  int64  \n",
      " 6   holiday     17379 non-null  int64  \n",
      " 7   weekday     17379 non-null  int64  \n",
      " 8   workingday  17379 non-null  int64  \n",
      " 9   weathersit  17379 non-null  int64  \n",
      " 10  temp        17379 non-null  float64\n",
      " 11  atemp       17379 non-null  float64\n",
      " 12  hum         17379 non-null  float64\n",
      " 13  windspeed   17379 non-null  float64\n",
      " 14  casual      17379 non-null  int64  \n",
      " 15  registered  17379 non-null  int64  \n",
      " 16  cnt         17379 non-null  int64  \n",
      "dtypes: float64(4), int64(12), object(1)\n",
      "memory usage: 2.3+ MB\n"
     ]
    }
   ],
   "source": [
    "hours_df.info()"
   ]
  },
  {
   "cell_type": "markdown",
   "id": "b6d1dcdf-efc8-4ae1-8882-521657fd34d1",
   "metadata": {},
   "source": [
    "<p><strong>Insight:</strong></p>\n",
    "<ul>\n",
    "    <li>Nama kolom kurang deskriptif dan ambigu.</li>\n",
    "        <ul>\n",
    "            <li>Kolom dengan Singkatan / Kurang Deskriptif.\n",
    "                <ul>\n",
    "                    <li>instant-> record_id</li>\n",
    "                    <li>dteday -> date</li>\n",
    "                    <li>mnth -> month</li>\n",
    "                    <li>hr -> hour</li>\n",
    "                    <li>weathersit -> weather_condition</li>\n",
    "                    <li>cnt -> total_rentals</li>\n",
    "                </ul>\n",
    "            </li>\n",
    "            <li>Kolom dengan Nilai Ternormalisasi.\n",
    "                <br>\n",
    "                Untuk menghindari kesalahpahaman bahwa nilai adalah aktual (bukan ternormalisasi):\n",
    "                <ul>\n",
    "                    <li>temp -> normalized_temperature</li>\n",
    "                    <li>atemp -> normalized_feeling_temperature</li>\n",
    "                    <li>hum -> normalized_humidity</li>\n",
    "                    <li>windspeed -> normalized_wind_speed</li>\n",
    "                </ul>\n",
    "            </li>\n",
    "            <li>Kolom Kategorikal dengan Kode Numerik.\n",
    "                <br>\n",
    "                Tambahkan suffix \"_code\" untuk menegaskan bahwa nilai adalah kode:\n",
    "                <ul>\n",
    "                    <li>yr -> year_code</li>\n",
    "                    <li>season -> season_code</li>\n",
    "                    <li>weekday -> weekday_code</li>\n",
    "                </ul>\n",
    "            </li>\n",
    "            <li>Kolom yang Membutuhkan Konteks Lebih Jelas.\n",
    "                <br>\n",
    "                Tambahkan suffix \"_users\" untuk menghindari ambiguitas:\n",
    "                <ul>\n",
    "                    <li>casual  -> casual_users</li>\n",
    "                    <li>registered -> registered_users</li>\n",
    "                </ul>\n",
    "            </li>\n",
    "        </ul>\n",
    "    <li>Kolom tanggal seharusnya bertipe datetime untuk memudahkan analisis temporal (e.g., filtering berdasarkan bulan/tahun).</li>\n",
    "    <li>Kolom dengan kode numerik (nilai diskret terbatas) sebaiknya diubah ke tipe kategorikal atau boolean.\n",
    "        <ul>\n",
    "            <li>Kategorikal:\n",
    "                <ul>\n",
    "                    <li>season</li>\n",
    "                    <li>yr</li>\n",
    "                    <li>mnth</li>\n",
    "                    <li>weekday</li>\n",
    "                    <li>weathersit</li>\n",
    "                </ul>\n",
    "            </li>\n",
    "            <li>Boolean:\n",
    "                <ul>\n",
    "                    <li>holiday</li>\n",
    "                    <li>workingday</li>\n",
    "                </ul>\n",
    "            </li>\n",
    "        </ul>\n",
    "    </li>\n",
    "</ul>"
   ]
  },
  {
   "cell_type": "code",
   "execution_count": 9,
   "id": "6a383cdf-10eb-4850-87be-02c890be7557",
   "metadata": {
    "jupyter": {
     "source_hidden": true
    }
   },
   "outputs": [
    {
     "data": {
      "text/plain": [
       "instant       0\n",
       "dteday        0\n",
       "season        0\n",
       "yr            0\n",
       "mnth          0\n",
       "hr            0\n",
       "holiday       0\n",
       "weekday       0\n",
       "workingday    0\n",
       "weathersit    0\n",
       "temp          0\n",
       "atemp         0\n",
       "hum           0\n",
       "windspeed     0\n",
       "casual        0\n",
       "registered    0\n",
       "cnt           0\n",
       "dtype: int64"
      ]
     },
     "execution_count": 9,
     "metadata": {},
     "output_type": "execute_result"
    }
   ],
   "source": [
    "hours_df.isna().sum()"
   ]
  },
  {
   "cell_type": "code",
   "execution_count": 10,
   "id": "9df4a045-4bf8-478f-8823-32dc404a1013",
   "metadata": {
    "jupyter": {
     "source_hidden": true
    }
   },
   "outputs": [
    {
     "name": "stdout",
     "output_type": "stream",
     "text": [
      "Jumlah duplikasi:  0\n"
     ]
    }
   ],
   "source": [
    "print(\"Jumlah duplikasi: \", hours_df.duplicated().sum())"
   ]
  },
  {
   "cell_type": "code",
   "execution_count": 11,
   "id": "b1f6ea4f-ad68-4519-aa5f-6e13cb5f680d",
   "metadata": {
    "scrolled": true
   },
   "outputs": [
    {
     "data": {
      "text/html": [
       "<div>\n",
       "<style scoped>\n",
       "    .dataframe tbody tr th:only-of-type {\n",
       "        vertical-align: middle;\n",
       "    }\n",
       "\n",
       "    .dataframe tbody tr th {\n",
       "        vertical-align: top;\n",
       "    }\n",
       "\n",
       "    .dataframe thead th {\n",
       "        text-align: right;\n",
       "    }\n",
       "</style>\n",
       "<table border=\"1\" class=\"dataframe\">\n",
       "  <thead>\n",
       "    <tr style=\"text-align: right;\">\n",
       "      <th></th>\n",
       "      <th>instant</th>\n",
       "      <th>season</th>\n",
       "      <th>yr</th>\n",
       "      <th>mnth</th>\n",
       "      <th>hr</th>\n",
       "      <th>holiday</th>\n",
       "      <th>weekday</th>\n",
       "      <th>workingday</th>\n",
       "      <th>weathersit</th>\n",
       "      <th>temp</th>\n",
       "      <th>atemp</th>\n",
       "      <th>hum</th>\n",
       "      <th>windspeed</th>\n",
       "      <th>casual</th>\n",
       "      <th>registered</th>\n",
       "      <th>cnt</th>\n",
       "    </tr>\n",
       "  </thead>\n",
       "  <tbody>\n",
       "    <tr>\n",
       "      <th>count</th>\n",
       "      <td>17379.0000</td>\n",
       "      <td>17379.000000</td>\n",
       "      <td>17379.000000</td>\n",
       "      <td>17379.000000</td>\n",
       "      <td>17379.000000</td>\n",
       "      <td>17379.000000</td>\n",
       "      <td>17379.000000</td>\n",
       "      <td>17379.000000</td>\n",
       "      <td>17379.000000</td>\n",
       "      <td>17379.000000</td>\n",
       "      <td>17379.000000</td>\n",
       "      <td>17379.000000</td>\n",
       "      <td>17379.000000</td>\n",
       "      <td>17379.000000</td>\n",
       "      <td>17379.000000</td>\n",
       "      <td>17379.000000</td>\n",
       "    </tr>\n",
       "    <tr>\n",
       "      <th>mean</th>\n",
       "      <td>8690.0000</td>\n",
       "      <td>2.501640</td>\n",
       "      <td>0.502561</td>\n",
       "      <td>6.537775</td>\n",
       "      <td>11.546752</td>\n",
       "      <td>0.028770</td>\n",
       "      <td>3.003683</td>\n",
       "      <td>0.682721</td>\n",
       "      <td>1.425283</td>\n",
       "      <td>0.496987</td>\n",
       "      <td>0.475775</td>\n",
       "      <td>0.627229</td>\n",
       "      <td>0.190098</td>\n",
       "      <td>35.676218</td>\n",
       "      <td>153.786869</td>\n",
       "      <td>189.463088</td>\n",
       "    </tr>\n",
       "    <tr>\n",
       "      <th>std</th>\n",
       "      <td>5017.0295</td>\n",
       "      <td>1.106918</td>\n",
       "      <td>0.500008</td>\n",
       "      <td>3.438776</td>\n",
       "      <td>6.914405</td>\n",
       "      <td>0.167165</td>\n",
       "      <td>2.005771</td>\n",
       "      <td>0.465431</td>\n",
       "      <td>0.639357</td>\n",
       "      <td>0.192556</td>\n",
       "      <td>0.171850</td>\n",
       "      <td>0.192930</td>\n",
       "      <td>0.122340</td>\n",
       "      <td>49.305030</td>\n",
       "      <td>151.357286</td>\n",
       "      <td>181.387599</td>\n",
       "    </tr>\n",
       "    <tr>\n",
       "      <th>min</th>\n",
       "      <td>1.0000</td>\n",
       "      <td>1.000000</td>\n",
       "      <td>0.000000</td>\n",
       "      <td>1.000000</td>\n",
       "      <td>0.000000</td>\n",
       "      <td>0.000000</td>\n",
       "      <td>0.000000</td>\n",
       "      <td>0.000000</td>\n",
       "      <td>1.000000</td>\n",
       "      <td>0.020000</td>\n",
       "      <td>0.000000</td>\n",
       "      <td>0.000000</td>\n",
       "      <td>0.000000</td>\n",
       "      <td>0.000000</td>\n",
       "      <td>0.000000</td>\n",
       "      <td>1.000000</td>\n",
       "    </tr>\n",
       "    <tr>\n",
       "      <th>25%</th>\n",
       "      <td>4345.5000</td>\n",
       "      <td>2.000000</td>\n",
       "      <td>0.000000</td>\n",
       "      <td>4.000000</td>\n",
       "      <td>6.000000</td>\n",
       "      <td>0.000000</td>\n",
       "      <td>1.000000</td>\n",
       "      <td>0.000000</td>\n",
       "      <td>1.000000</td>\n",
       "      <td>0.340000</td>\n",
       "      <td>0.333300</td>\n",
       "      <td>0.480000</td>\n",
       "      <td>0.104500</td>\n",
       "      <td>4.000000</td>\n",
       "      <td>34.000000</td>\n",
       "      <td>40.000000</td>\n",
       "    </tr>\n",
       "    <tr>\n",
       "      <th>50%</th>\n",
       "      <td>8690.0000</td>\n",
       "      <td>3.000000</td>\n",
       "      <td>1.000000</td>\n",
       "      <td>7.000000</td>\n",
       "      <td>12.000000</td>\n",
       "      <td>0.000000</td>\n",
       "      <td>3.000000</td>\n",
       "      <td>1.000000</td>\n",
       "      <td>1.000000</td>\n",
       "      <td>0.500000</td>\n",
       "      <td>0.484800</td>\n",
       "      <td>0.630000</td>\n",
       "      <td>0.194000</td>\n",
       "      <td>17.000000</td>\n",
       "      <td>115.000000</td>\n",
       "      <td>142.000000</td>\n",
       "    </tr>\n",
       "    <tr>\n",
       "      <th>75%</th>\n",
       "      <td>13034.5000</td>\n",
       "      <td>3.000000</td>\n",
       "      <td>1.000000</td>\n",
       "      <td>10.000000</td>\n",
       "      <td>18.000000</td>\n",
       "      <td>0.000000</td>\n",
       "      <td>5.000000</td>\n",
       "      <td>1.000000</td>\n",
       "      <td>2.000000</td>\n",
       "      <td>0.660000</td>\n",
       "      <td>0.621200</td>\n",
       "      <td>0.780000</td>\n",
       "      <td>0.253700</td>\n",
       "      <td>48.000000</td>\n",
       "      <td>220.000000</td>\n",
       "      <td>281.000000</td>\n",
       "    </tr>\n",
       "    <tr>\n",
       "      <th>max</th>\n",
       "      <td>17379.0000</td>\n",
       "      <td>4.000000</td>\n",
       "      <td>1.000000</td>\n",
       "      <td>12.000000</td>\n",
       "      <td>23.000000</td>\n",
       "      <td>1.000000</td>\n",
       "      <td>6.000000</td>\n",
       "      <td>1.000000</td>\n",
       "      <td>4.000000</td>\n",
       "      <td>1.000000</td>\n",
       "      <td>1.000000</td>\n",
       "      <td>1.000000</td>\n",
       "      <td>0.850700</td>\n",
       "      <td>367.000000</td>\n",
       "      <td>886.000000</td>\n",
       "      <td>977.000000</td>\n",
       "    </tr>\n",
       "  </tbody>\n",
       "</table>\n",
       "</div>"
      ],
      "text/plain": [
       "          instant        season            yr          mnth            hr  \\\n",
       "count  17379.0000  17379.000000  17379.000000  17379.000000  17379.000000   \n",
       "mean    8690.0000      2.501640      0.502561      6.537775     11.546752   \n",
       "std     5017.0295      1.106918      0.500008      3.438776      6.914405   \n",
       "min        1.0000      1.000000      0.000000      1.000000      0.000000   \n",
       "25%     4345.5000      2.000000      0.000000      4.000000      6.000000   \n",
       "50%     8690.0000      3.000000      1.000000      7.000000     12.000000   \n",
       "75%    13034.5000      3.000000      1.000000     10.000000     18.000000   \n",
       "max    17379.0000      4.000000      1.000000     12.000000     23.000000   \n",
       "\n",
       "            holiday       weekday    workingday    weathersit          temp  \\\n",
       "count  17379.000000  17379.000000  17379.000000  17379.000000  17379.000000   \n",
       "mean       0.028770      3.003683      0.682721      1.425283      0.496987   \n",
       "std        0.167165      2.005771      0.465431      0.639357      0.192556   \n",
       "min        0.000000      0.000000      0.000000      1.000000      0.020000   \n",
       "25%        0.000000      1.000000      0.000000      1.000000      0.340000   \n",
       "50%        0.000000      3.000000      1.000000      1.000000      0.500000   \n",
       "75%        0.000000      5.000000      1.000000      2.000000      0.660000   \n",
       "max        1.000000      6.000000      1.000000      4.000000      1.000000   \n",
       "\n",
       "              atemp           hum     windspeed        casual    registered  \\\n",
       "count  17379.000000  17379.000000  17379.000000  17379.000000  17379.000000   \n",
       "mean       0.475775      0.627229      0.190098     35.676218    153.786869   \n",
       "std        0.171850      0.192930      0.122340     49.305030    151.357286   \n",
       "min        0.000000      0.000000      0.000000      0.000000      0.000000   \n",
       "25%        0.333300      0.480000      0.104500      4.000000     34.000000   \n",
       "50%        0.484800      0.630000      0.194000     17.000000    115.000000   \n",
       "75%        0.621200      0.780000      0.253700     48.000000    220.000000   \n",
       "max        1.000000      1.000000      0.850700    367.000000    886.000000   \n",
       "\n",
       "                cnt  \n",
       "count  17379.000000  \n",
       "mean     189.463088  \n",
       "std      181.387599  \n",
       "min        1.000000  \n",
       "25%       40.000000  \n",
       "50%      142.000000  \n",
       "75%      281.000000  \n",
       "max      977.000000  "
      ]
     },
     "execution_count": 11,
     "metadata": {},
     "output_type": "execute_result"
    }
   ],
   "source": [
    "hours_df.describe()"
   ]
  },
  {
   "cell_type": "markdown",
   "id": "06d63a3a-9c9a-4350-bc8f-199e7d62986b",
   "metadata": {},
   "source": [
    "<p><strong>Insight:</strong></p>\n",
    "<ul>\n",
    "    <li>\n",
    "        Kolom hum (Kelembapan).\n",
    "        <ul>\n",
    "            <li>\n",
    "                Masalah:\n",
    "                <ul>\n",
    "                    <li>\n",
    "                        Nilai min = 0% (pada kolom hum).\n",
    "                    </li>\n",
    "                    <li>\n",
    "                        Kelembapan 0% secara fisik tidak mungkin terjadi di kondisi nyata (bahkan di gurun sekalipun kelembapan minimum ~5-10%).\n",
    "                    </li>\n",
    "                    <li>\n",
    "                        Kemungkinan penyebab:\n",
    "                        <ul>\n",
    "                            <li>\n",
    "                                Kesalahan sensor atau input data.\n",
    "                            </li>\n",
    "                        </ul>\n",
    "                    </li>\n",
    "                </ul>\n",
    "            </li>\n",
    "            <li>\n",
    "                Solusi:\n",
    "                <ul>\n",
    "                    <li>\n",
    "                        Periksa data dengan hum = 0 dan lakukan imputasi atau hapus baris tersebut jika jelas merupakan noise.\n",
    "                    </li>\n",
    "                </ul>\n",
    "            </li>\n",
    "        </ul>\n",
    "    </li>\n",
    "</ul>"
   ]
  },
  {
   "cell_type": "markdown",
   "id": "ca2432cd-3401-4846-8da8-5442c804370e",
   "metadata": {},
   "source": [
    "<h3>Cleaning Data</h3>"
   ]
  },
  {
   "cell_type": "markdown",
   "id": "3817581e-6433-421d-84ca-13b2f534bb45",
   "metadata": {},
   "source": [
    "<h4>Membersihkan Tabel \"Days\"</h4>"
   ]
  },
  {
   "cell_type": "markdown",
   "id": "1e7358a2-765c-4ffa-a60c-86e796cb0deb",
   "metadata": {},
   "source": [
    "<h5>Mengubah nama kolom yang kurang deskriptif dan ambigu.</h5>"
   ]
  },
  {
   "cell_type": "code",
   "execution_count": 12,
   "id": "88c6a9cb-c3c7-4c72-a47f-c307fa3dbe22",
   "metadata": {
    "jupyter": {
     "source_hidden": true
    }
   },
   "outputs": [
    {
     "data": {
      "text/plain": [
       "Index(['instant', 'dteday', 'season', 'yr', 'mnth', 'holiday', 'weekday',\n",
       "       'workingday', 'weathersit', 'temp', 'atemp', 'hum', 'windspeed',\n",
       "       'casual', 'registered', 'cnt'],\n",
       "      dtype='object')"
      ]
     },
     "execution_count": 12,
     "metadata": {},
     "output_type": "execute_result"
    }
   ],
   "source": [
    "days_df.columns"
   ]
  },
  {
   "cell_type": "markdown",
   "id": "3b49461b-7e8f-431c-90e2-1141b91e1aa9",
   "metadata": {},
   "source": [
    "<h6>Kolom dengan Singkatan / Kurang Deskriptif.</h6>"
   ]
  },
  {
   "cell_type": "code",
   "execution_count": 13,
   "id": "86f7fc33-51d6-4f58-952c-a2bf6fc835ca",
   "metadata": {
    "jupyter": {
     "source_hidden": true
    }
   },
   "outputs": [],
   "source": [
    "days_df = days_df.rename(columns={\n",
    "    'instant': 'record_id',\n",
    "    'dteday': 'date',\n",
    "    'mnth': 'month',\n",
    "    'weathersit': 'weather_condition',\n",
    "    'cnt': 'total_rentals',\n",
    "})"
   ]
  },
  {
   "cell_type": "markdown",
   "id": "267a4649-0479-4a8a-af50-dc34d6e77837",
   "metadata": {},
   "source": [
    "<h6>Kolom dengan Nilai Ternormalisasi.</h6>"
   ]
  },
  {
   "cell_type": "code",
   "execution_count": 14,
   "id": "ead8530e-b936-4563-83ac-4b5da47e4271",
   "metadata": {
    "jupyter": {
     "source_hidden": true
    }
   },
   "outputs": [],
   "source": [
    "days_df = days_df.rename(columns={\n",
    "    'temp': 'normalized_temperature',\n",
    "    'atemp': 'normalized_feeling_temperature',\n",
    "    'hum': 'normalized_humidity',\n",
    "    'windspeed': 'normalized_wind_speed',\n",
    "})"
   ]
  },
  {
   "cell_type": "markdown",
   "id": "da8cbc45-193f-4511-aed3-3d77eddc420b",
   "metadata": {},
   "source": [
    "<h6>Kolom Kategorikal dengan Kode Numerik.</h6>"
   ]
  },
  {
   "cell_type": "code",
   "execution_count": 15,
   "id": "2955b1ad-0c53-45e0-a992-4c780138ae6b",
   "metadata": {
    "jupyter": {
     "source_hidden": true
    }
   },
   "outputs": [],
   "source": [
    "days_df = days_df.rename(columns={\n",
    "    'yr': 'year_code',\n",
    "    'season': 'season_code',\n",
    "    'weekday': 'weekday_code',\n",
    "})"
   ]
  },
  {
   "cell_type": "markdown",
   "id": "85e2dcfc-86f1-43f3-a4df-02318d1d6c1e",
   "metadata": {},
   "source": [
    "<h6>Kolom yang Membutuhkan Konteks Lebih Jelas.</h6>"
   ]
  },
  {
   "cell_type": "code",
   "execution_count": 16,
   "id": "ad82d2c9-d809-49d0-9e2c-df9efb253f9b",
   "metadata": {
    "jupyter": {
     "source_hidden": true
    }
   },
   "outputs": [],
   "source": [
    "days_df = days_df.rename(columns={\n",
    "    'casual': 'casual_users',\n",
    "    'registered': 'registered_users',\n",
    "})"
   ]
  },
  {
   "cell_type": "markdown",
   "id": "b860fa74-53b0-43ec-9f53-fe330a4dee77",
   "metadata": {},
   "source": [
    "<h6>Cek hasil perubahan nama kolom</h6>"
   ]
  },
  {
   "cell_type": "code",
   "execution_count": 17,
   "id": "8e662b64-d312-4cae-8ca8-adb0c5136966",
   "metadata": {
    "jupyter": {
     "source_hidden": true
    }
   },
   "outputs": [
    {
     "data": {
      "text/html": [
       "<div>\n",
       "<style scoped>\n",
       "    .dataframe tbody tr th:only-of-type {\n",
       "        vertical-align: middle;\n",
       "    }\n",
       "\n",
       "    .dataframe tbody tr th {\n",
       "        vertical-align: top;\n",
       "    }\n",
       "\n",
       "    .dataframe thead th {\n",
       "        text-align: right;\n",
       "    }\n",
       "</style>\n",
       "<table border=\"1\" class=\"dataframe\">\n",
       "  <thead>\n",
       "    <tr style=\"text-align: right;\">\n",
       "      <th></th>\n",
       "      <th>record_id</th>\n",
       "      <th>date</th>\n",
       "      <th>season_code</th>\n",
       "      <th>year_code</th>\n",
       "      <th>month</th>\n",
       "      <th>holiday</th>\n",
       "      <th>weekday_code</th>\n",
       "      <th>workingday</th>\n",
       "      <th>weather_condition</th>\n",
       "      <th>normalized_temperature</th>\n",
       "      <th>normalized_feeling_temperature</th>\n",
       "      <th>normalized_humidity</th>\n",
       "      <th>normalized_wind_speed</th>\n",
       "      <th>casual_users</th>\n",
       "      <th>registered_users</th>\n",
       "      <th>total_rentals</th>\n",
       "    </tr>\n",
       "  </thead>\n",
       "  <tbody>\n",
       "    <tr>\n",
       "      <th>0</th>\n",
       "      <td>1</td>\n",
       "      <td>2011-01-01</td>\n",
       "      <td>1</td>\n",
       "      <td>0</td>\n",
       "      <td>1</td>\n",
       "      <td>0</td>\n",
       "      <td>6</td>\n",
       "      <td>0</td>\n",
       "      <td>2</td>\n",
       "      <td>0.344167</td>\n",
       "      <td>0.363625</td>\n",
       "      <td>0.805833</td>\n",
       "      <td>0.160446</td>\n",
       "      <td>331</td>\n",
       "      <td>654</td>\n",
       "      <td>985</td>\n",
       "    </tr>\n",
       "    <tr>\n",
       "      <th>1</th>\n",
       "      <td>2</td>\n",
       "      <td>2011-01-02</td>\n",
       "      <td>1</td>\n",
       "      <td>0</td>\n",
       "      <td>1</td>\n",
       "      <td>0</td>\n",
       "      <td>0</td>\n",
       "      <td>0</td>\n",
       "      <td>2</td>\n",
       "      <td>0.363478</td>\n",
       "      <td>0.353739</td>\n",
       "      <td>0.696087</td>\n",
       "      <td>0.248539</td>\n",
       "      <td>131</td>\n",
       "      <td>670</td>\n",
       "      <td>801</td>\n",
       "    </tr>\n",
       "    <tr>\n",
       "      <th>2</th>\n",
       "      <td>3</td>\n",
       "      <td>2011-01-03</td>\n",
       "      <td>1</td>\n",
       "      <td>0</td>\n",
       "      <td>1</td>\n",
       "      <td>0</td>\n",
       "      <td>1</td>\n",
       "      <td>1</td>\n",
       "      <td>1</td>\n",
       "      <td>0.196364</td>\n",
       "      <td>0.189405</td>\n",
       "      <td>0.437273</td>\n",
       "      <td>0.248309</td>\n",
       "      <td>120</td>\n",
       "      <td>1229</td>\n",
       "      <td>1349</td>\n",
       "    </tr>\n",
       "    <tr>\n",
       "      <th>3</th>\n",
       "      <td>4</td>\n",
       "      <td>2011-01-04</td>\n",
       "      <td>1</td>\n",
       "      <td>0</td>\n",
       "      <td>1</td>\n",
       "      <td>0</td>\n",
       "      <td>2</td>\n",
       "      <td>1</td>\n",
       "      <td>1</td>\n",
       "      <td>0.200000</td>\n",
       "      <td>0.212122</td>\n",
       "      <td>0.590435</td>\n",
       "      <td>0.160296</td>\n",
       "      <td>108</td>\n",
       "      <td>1454</td>\n",
       "      <td>1562</td>\n",
       "    </tr>\n",
       "    <tr>\n",
       "      <th>4</th>\n",
       "      <td>5</td>\n",
       "      <td>2011-01-05</td>\n",
       "      <td>1</td>\n",
       "      <td>0</td>\n",
       "      <td>1</td>\n",
       "      <td>0</td>\n",
       "      <td>3</td>\n",
       "      <td>1</td>\n",
       "      <td>1</td>\n",
       "      <td>0.226957</td>\n",
       "      <td>0.229270</td>\n",
       "      <td>0.436957</td>\n",
       "      <td>0.186900</td>\n",
       "      <td>82</td>\n",
       "      <td>1518</td>\n",
       "      <td>1600</td>\n",
       "    </tr>\n",
       "  </tbody>\n",
       "</table>\n",
       "</div>"
      ],
      "text/plain": [
       "   record_id        date  season_code  year_code  month  holiday  \\\n",
       "0          1  2011-01-01            1          0      1        0   \n",
       "1          2  2011-01-02            1          0      1        0   \n",
       "2          3  2011-01-03            1          0      1        0   \n",
       "3          4  2011-01-04            1          0      1        0   \n",
       "4          5  2011-01-05            1          0      1        0   \n",
       "\n",
       "   weekday_code  workingday  weather_condition  normalized_temperature  \\\n",
       "0             6           0                  2                0.344167   \n",
       "1             0           0                  2                0.363478   \n",
       "2             1           1                  1                0.196364   \n",
       "3             2           1                  1                0.200000   \n",
       "4             3           1                  1                0.226957   \n",
       "\n",
       "   normalized_feeling_temperature  normalized_humidity  normalized_wind_speed  \\\n",
       "0                        0.363625             0.805833               0.160446   \n",
       "1                        0.353739             0.696087               0.248539   \n",
       "2                        0.189405             0.437273               0.248309   \n",
       "3                        0.212122             0.590435               0.160296   \n",
       "4                        0.229270             0.436957               0.186900   \n",
       "\n",
       "   casual_users  registered_users  total_rentals  \n",
       "0           331               654            985  \n",
       "1           131               670            801  \n",
       "2           120              1229           1349  \n",
       "3           108              1454           1562  \n",
       "4            82              1518           1600  "
      ]
     },
     "execution_count": 17,
     "metadata": {},
     "output_type": "execute_result"
    }
   ],
   "source": [
    "days_df.head()"
   ]
  },
  {
   "cell_type": "markdown",
   "id": "f3eb20cc-8cd8-4c9d-9af7-7dc961871f71",
   "metadata": {
    "jp-MarkdownHeadingCollapsed": true
   },
   "source": [
    "<h5>Mengubah tipe data pada kolom \"date\" dari object ke datetime</h5>"
   ]
  },
  {
   "cell_type": "code",
   "execution_count": 18,
   "id": "8ce0a90d-1d88-4f21-8565-f1ac0a4aed7a",
   "metadata": {
    "jupyter": {
     "source_hidden": true
    }
   },
   "outputs": [
    {
     "name": "stdout",
     "output_type": "stream",
     "text": [
      "<class 'pandas.core.series.Series'>\n",
      "RangeIndex: 731 entries, 0 to 730\n",
      "Series name: date\n",
      "Non-Null Count  Dtype \n",
      "--------------  ----- \n",
      "731 non-null    object\n",
      "dtypes: object(1)\n",
      "memory usage: 5.8+ KB\n"
     ]
    }
   ],
   "source": [
    "days_df['date'].info()"
   ]
  },
  {
   "cell_type": "code",
   "execution_count": 19,
   "id": "25237a67-cdb6-4e68-893c-3f80de85852f",
   "metadata": {
    "jupyter": {
     "source_hidden": true
    }
   },
   "outputs": [],
   "source": [
    "days_df['date'] = pd.to_datetime(days_df['date'])"
   ]
  },
  {
   "cell_type": "code",
   "execution_count": 20,
   "id": "d40c15d8-f7b9-4fb7-8b61-e7caa6e7ac31",
   "metadata": {
    "jupyter": {
     "source_hidden": true
    }
   },
   "outputs": [
    {
     "name": "stdout",
     "output_type": "stream",
     "text": [
      "<class 'pandas.core.series.Series'>\n",
      "RangeIndex: 731 entries, 0 to 730\n",
      "Series name: date\n",
      "Non-Null Count  Dtype         \n",
      "--------------  -----         \n",
      "731 non-null    datetime64[ns]\n",
      "dtypes: datetime64[ns](1)\n",
      "memory usage: 5.8 KB\n"
     ]
    }
   ],
   "source": [
    "days_df['date'].info()"
   ]
  },
  {
   "cell_type": "markdown",
   "id": "b1d6e2ea-7a2f-4015-8a26-cb6dac95b0da",
   "metadata": {},
   "source": [
    "<h5>Mengubah tipe data pada kolom dengan kode numerik(nilai diskret terbatas) ke tipe kategorikal dan boolean</h5>"
   ]
  },
  {
   "cell_type": "markdown",
   "id": "ae5ab54d-417f-42c3-a477-089e8fe4a668",
   "metadata": {},
   "source": [
    "<p><strong>Alasan Mengubah Kode Numerik ke Kategorikal atau Boolean</strong></p>\n",
    "<ul>\n",
    "    <li>Efisiensi Memori – Kategori lebih hemat dibanding integer jika jumlah nilai unik sedikit.</li>\n",
    "    <li>Mencegah Kesalahan Interpretasi – Angka seperti season_code(1-4) tidak memiliki hubungan matematis.</li>\n",
    "    <li>Meningkatkan Akurasi Model – Model tidak salah menganggap variabel kategori sebagai numerik.</li>\n",
    "    <li>Memudahkan Analisis & Visualisasi – Grouping, filtering, dan plotting lebih intuitif.</li>\n",
    "    <li>Boolean Lebih Jelas untuk Data Biner – holiday (0/1) lebih baik sebagai True/False.</li>\n",
    "</ul>"
   ]
  },
  {
   "cell_type": "markdown",
   "id": "9e6c215f-e1a8-4e67-ba72-b0a207c974d5",
   "metadata": {
    "jp-MarkdownHeadingCollapsed": true
   },
   "source": [
    "<h6>Kategorikal</h6>"
   ]
  },
  {
   "cell_type": "code",
   "execution_count": 21,
   "id": "90410e3a-3e4f-43bc-af80-1a3b05646aea",
   "metadata": {
    "jupyter": {
     "source_hidden": true
    }
   },
   "outputs": [
    {
     "name": "stdout",
     "output_type": "stream",
     "text": [
      "<class 'pandas.core.frame.DataFrame'>\n",
      "RangeIndex: 731 entries, 0 to 730\n",
      "Data columns (total 5 columns):\n",
      " #   Column             Non-Null Count  Dtype\n",
      "---  ------             --------------  -----\n",
      " 0   month              731 non-null    int64\n",
      " 1   weekday_code       731 non-null    int64\n",
      " 2   season_code        731 non-null    int64\n",
      " 3   year_code          731 non-null    int64\n",
      " 4   weather_condition  731 non-null    int64\n",
      "dtypes: int64(5)\n",
      "memory usage: 28.7 KB\n"
     ]
    }
   ],
   "source": [
    "days_df[['month', 'weekday_code', 'season_code', 'year_code', 'weather_condition']].info()"
   ]
  },
  {
   "cell_type": "code",
   "execution_count": 22,
   "id": "1a829b8f-f98e-4497-8114-9bdc74958c4b",
   "metadata": {
    "jupyter": {
     "source_hidden": true
    }
   },
   "outputs": [],
   "source": [
    "days_df['month'] = days_df['month'].astype('category')\n",
    "days_df['weekday_code'] = days_df['weekday_code'].astype('category')\n",
    "days_df['season_code'] = days_df['season_code'].astype('category')\n",
    "days_df['year_code'] = days_df['year_code'].astype('category')\n",
    "days_df['weather_condition'] = days_df['weather_condition'].astype('category')"
   ]
  },
  {
   "cell_type": "code",
   "execution_count": 23,
   "id": "00fd2dff-be8f-408d-9e36-07bcf7bca6b6",
   "metadata": {
    "jupyter": {
     "source_hidden": true
    }
   },
   "outputs": [
    {
     "name": "stdout",
     "output_type": "stream",
     "text": [
      "<class 'pandas.core.frame.DataFrame'>\n",
      "RangeIndex: 731 entries, 0 to 730\n",
      "Data columns (total 5 columns):\n",
      " #   Column             Non-Null Count  Dtype   \n",
      "---  ------             --------------  -----   \n",
      " 0   month              731 non-null    category\n",
      " 1   weekday_code       731 non-null    category\n",
      " 2   season_code        731 non-null    category\n",
      " 3   year_code          731 non-null    category\n",
      " 4   weather_condition  731 non-null    category\n",
      "dtypes: category(5)\n",
      "memory usage: 4.9 KB\n"
     ]
    }
   ],
   "source": [
    "days_df[['month', 'weekday_code', 'season_code', 'year_code', 'weather_condition']].info()"
   ]
  },
  {
   "cell_type": "markdown",
   "id": "bbb24df8-33c7-4460-b969-4369c8f20568",
   "metadata": {
    "jp-MarkdownHeadingCollapsed": true
   },
   "source": [
    "<h6>Boolean</h6>"
   ]
  },
  {
   "cell_type": "code",
   "execution_count": 24,
   "id": "6d4bdc7c-72bb-4c8e-963b-b2c17bbff24f",
   "metadata": {
    "jupyter": {
     "source_hidden": true
    }
   },
   "outputs": [
    {
     "name": "stdout",
     "output_type": "stream",
     "text": [
      "<class 'pandas.core.frame.DataFrame'>\n",
      "RangeIndex: 731 entries, 0 to 730\n",
      "Data columns (total 2 columns):\n",
      " #   Column      Non-Null Count  Dtype\n",
      "---  ------      --------------  -----\n",
      " 0   holiday     731 non-null    int64\n",
      " 1   workingday  731 non-null    int64\n",
      "dtypes: int64(2)\n",
      "memory usage: 11.6 KB\n"
     ]
    }
   ],
   "source": [
    "days_df[['holiday', 'workingday']].info()"
   ]
  },
  {
   "cell_type": "code",
   "execution_count": 25,
   "id": "e2edf5d3-44eb-499a-bf24-baee91e5c7a1",
   "metadata": {
    "jupyter": {
     "source_hidden": true
    }
   },
   "outputs": [],
   "source": [
    "days_df['holiday'] = days_df['holiday'].astype('bool')\n",
    "days_df['workingday'] = days_df['workingday'].astype('bool')"
   ]
  },
  {
   "cell_type": "code",
   "execution_count": 26,
   "id": "67ad0e3c-86d4-4378-98bb-5ec2b25d8ed5",
   "metadata": {
    "jupyter": {
     "source_hidden": true
    }
   },
   "outputs": [
    {
     "name": "stdout",
     "output_type": "stream",
     "text": [
      "<class 'pandas.core.frame.DataFrame'>\n",
      "RangeIndex: 731 entries, 0 to 730\n",
      "Data columns (total 2 columns):\n",
      " #   Column      Non-Null Count  Dtype\n",
      "---  ------      --------------  -----\n",
      " 0   holiday     731 non-null    bool \n",
      " 1   workingday  731 non-null    bool \n",
      "dtypes: bool(2)\n",
      "memory usage: 1.6 KB\n"
     ]
    }
   ],
   "source": [
    "days_df[['holiday', 'workingday']].info()"
   ]
  },
  {
   "cell_type": "markdown",
   "id": "b8e8c199-5225-43b1-bc80-231e70743aed",
   "metadata": {
    "jp-MarkdownHeadingCollapsed": true
   },
   "source": [
    "<h6>Validasi</h6>"
   ]
  },
  {
   "cell_type": "code",
   "execution_count": 27,
   "id": "eb43ba62-bc0e-4104-933d-04496e783faf",
   "metadata": {
    "jupyter": {
     "source_hidden": true
    }
   },
   "outputs": [
    {
     "name": "stdout",
     "output_type": "stream",
     "text": [
      "<class 'pandas.core.frame.DataFrame'>\n",
      "RangeIndex: 731 entries, 0 to 730\n",
      "Data columns (total 16 columns):\n",
      " #   Column                          Non-Null Count  Dtype         \n",
      "---  ------                          --------------  -----         \n",
      " 0   record_id                       731 non-null    int64         \n",
      " 1   date                            731 non-null    datetime64[ns]\n",
      " 2   season_code                     731 non-null    category      \n",
      " 3   year_code                       731 non-null    category      \n",
      " 4   month                           731 non-null    category      \n",
      " 5   holiday                         731 non-null    bool          \n",
      " 6   weekday_code                    731 non-null    category      \n",
      " 7   workingday                      731 non-null    bool          \n",
      " 8   weather_condition               731 non-null    category      \n",
      " 9   normalized_temperature          731 non-null    float64       \n",
      " 10  normalized_feeling_temperature  731 non-null    float64       \n",
      " 11  normalized_humidity             731 non-null    float64       \n",
      " 12  normalized_wind_speed           731 non-null    float64       \n",
      " 13  casual_users                    731 non-null    int64         \n",
      " 14  registered_users                731 non-null    int64         \n",
      " 15  total_rentals                   731 non-null    int64         \n",
      "dtypes: bool(2), category(5), datetime64[ns](1), float64(4), int64(4)\n",
      "memory usage: 57.7 KB\n"
     ]
    }
   ],
   "source": [
    "days_df.info()"
   ]
  },
  {
   "cell_type": "markdown",
   "id": "e9a23114-83d0-4235-9c89-727988238ad2",
   "metadata": {
    "jp-MarkdownHeadingCollapsed": true
   },
   "source": [
    "<h5>Perbaikan Kolom weather_condition</h5>"
   ]
  },
  {
   "cell_type": "markdown",
   "id": "8e359a8a-98ee-4191-91bd-d653c9120690",
   "metadata": {
    "jp-MarkdownHeadingCollapsed": true
   },
   "source": [
    "<h6>Cek distribusi weather_condition</h6>"
   ]
  },
  {
   "cell_type": "code",
   "execution_count": 28,
   "id": "96c80f20-c4e6-46a8-a58a-9653b5b7f07a",
   "metadata": {
    "jupyter": {
     "source_hidden": true
    }
   },
   "outputs": [],
   "source": [
    "weather_distribution = days_df[\"weather_condition\"].value_counts().sort_index()"
   ]
  },
  {
   "cell_type": "code",
   "execution_count": 29,
   "id": "ae329603-4bb3-4035-908a-271b067f2254",
   "metadata": {
    "jupyter": {
     "source_hidden": true
    }
   },
   "outputs": [
    {
     "name": "stdout",
     "output_type": "stream",
     "text": [
      "weather_condition\n",
      "1    463\n",
      "2    247\n",
      "3     21\n",
      "Name: count, dtype: int64\n"
     ]
    }
   ],
   "source": [
    "print(weather_distribution)"
   ]
  },
  {
   "cell_type": "markdown",
   "id": "40fd8b79-8ddd-4017-91c0-5520783dcb39",
   "metadata": {
    "jp-MarkdownHeadingCollapsed": true
   },
   "source": [
    "<h6>Menambahkan kategori 4 sesuai dokumentasi Readme.txt</h6>"
   ]
  },
  {
   "cell_type": "code",
   "execution_count": 30,
   "id": "715dca81-7108-4335-b2ab-f18872775cfe",
   "metadata": {
    "jupyter": {
     "source_hidden": true
    }
   },
   "outputs": [],
   "source": [
    "days_df[\"weather_condition\"] = days_df[\"weather_condition\"].astype(\n",
    "    pd.CategoricalDtype(categories=[1, 2, 3, 4], ordered=False)\n",
    ")"
   ]
  },
  {
   "cell_type": "code",
   "execution_count": 31,
   "id": "e047a2ee-8097-430d-b3d1-e0f728d52150",
   "metadata": {
    "jupyter": {
     "source_hidden": true
    }
   },
   "outputs": [
    {
     "data": {
      "text/plain": [
       "weather_condition\n",
       "1    463\n",
       "2    247\n",
       "3     21\n",
       "4      0\n",
       "Name: count, dtype: int64"
      ]
     },
     "execution_count": 31,
     "metadata": {},
     "output_type": "execute_result"
    }
   ],
   "source": [
    "days_df[\"weather_condition\"].value_counts().sort_index()"
   ]
  },
  {
   "cell_type": "markdown",
   "id": "512f0705-a473-42d2-bf0e-626013fd7fb4",
   "metadata": {
    "jp-MarkdownHeadingCollapsed": true
   },
   "source": [
    "<h6>Kesimpulan</h6>"
   ]
  },
  {
   "cell_type": "markdown",
   "id": "98d59621-f3d0-4f1e-a6c2-04e96856e50a",
   "metadata": {},
   "source": [
    "<p><strong>Tidak ada kesalahan data: Data sudah benar, hanya saja kondisi cuaca ekstrem (kategori 4) tidak terjadi selama periode pengamatan.</strong></p>"
   ]
  },
  {
   "cell_type": "markdown",
   "id": "116947c1-6ad2-488b-8c33-6fa890ec245e",
   "metadata": {
    "jp-MarkdownHeadingCollapsed": true
   },
   "source": [
    "<h5>Perbaikan Kolom normalized_humidity</h5>"
   ]
  },
  {
   "cell_type": "markdown",
   "id": "74335d34-7a1c-42f0-adb1-f0ff636d29b0",
   "metadata": {
    "jp-MarkdownHeadingCollapsed": true
   },
   "source": [
    "<h6>Identifikasi Data dengan Kelembapan 0%</h6>"
   ]
  },
  {
   "cell_type": "code",
   "execution_count": 32,
   "id": "a8962341-51c2-43cb-8dbd-a265eac747cd",
   "metadata": {
    "jupyter": {
     "source_hidden": true
    }
   },
   "outputs": [
    {
     "name": "stdout",
     "output_type": "stream",
     "text": [
      "Jumlah baris dengan kelembapan 0%: 1\n",
      "         date  normalized_humidity\n",
      "68 2011-03-10                  0.0\n"
     ]
    }
   ],
   "source": [
    "zero_humidity = days_df[days_df[\"normalized_humidity\"] == 0]\n",
    "print(\"Jumlah baris dengan kelembapan 0%:\", len(zero_humidity))\n",
    "print(zero_humidity[[\"date\", \"normalized_humidity\"]])"
   ]
  },
  {
   "cell_type": "markdown",
   "id": "74edbd3c-884b-42fc-b194-5d624c0c9de7",
   "metadata": {
    "jp-MarkdownHeadingCollapsed": true
   },
   "source": [
    "<h6>Imputasi dengan rata-rata kelembapan bulanan</h6>"
   ]
  },
  {
   "cell_type": "code",
   "execution_count": 33,
   "id": "da857d97-f112-4e85-959a-02b3e626af71",
   "metadata": {
    "jupyter": {
     "source_hidden": true
    }
   },
   "outputs": [],
   "source": [
    "for index, row in zero_humidity.iterrows():\n",
    "    month = row[\"date\"].month\n",
    "    avg_hum_month = days_df[days_df[\"month\"] == month][\"normalized_humidity\"].mean()\n",
    "    days_df.loc[index, \"normalized_humidity\"] = avg_hum_month"
   ]
  },
  {
   "cell_type": "markdown",
   "id": "32c3bcec-fc93-4043-ab7c-acea3272c0e1",
   "metadata": {
    "jp-MarkdownHeadingCollapsed": true
   },
   "source": [
    "<h6>Validasi</h6>"
   ]
  },
  {
   "cell_type": "code",
   "execution_count": 34,
   "id": "1d78b43f-4765-43b1-8a8d-3fc0d71a24f6",
   "metadata": {
    "jupyter": {
     "source_hidden": true
    }
   },
   "outputs": [
    {
     "name": "stdout",
     "output_type": "stream",
     "text": [
      "Nilai minimum kelembapan setelah perbaikan: 0.187917\n"
     ]
    }
   ],
   "source": [
    "print(\"Nilai minimum kelembapan setelah perbaikan:\", days_df[\"normalized_humidity\"].min())"
   ]
  },
  {
   "cell_type": "markdown",
   "id": "5a986c5f-a8f2-4aeb-a926-d9370ffedb22",
   "metadata": {
    "jp-MarkdownHeadingCollapsed": true
   },
   "source": [
    "<h5>Validasi Tabel Days Setelah Perbaikan</h5>"
   ]
  },
  {
   "cell_type": "code",
   "execution_count": 35,
   "id": "2e70d783-879e-46d3-8d70-6feb7d86cdc9",
   "metadata": {
    "scrolled": true
   },
   "outputs": [
    {
     "name": "stdout",
     "output_type": "stream",
     "text": [
      "<class 'pandas.core.frame.DataFrame'>\n",
      "RangeIndex: 731 entries, 0 to 730\n",
      "Data columns (total 16 columns):\n",
      " #   Column                          Non-Null Count  Dtype         \n",
      "---  ------                          --------------  -----         \n",
      " 0   record_id                       731 non-null    int64         \n",
      " 1   date                            731 non-null    datetime64[ns]\n",
      " 2   season_code                     731 non-null    category      \n",
      " 3   year_code                       731 non-null    category      \n",
      " 4   month                           731 non-null    category      \n",
      " 5   holiday                         731 non-null    bool          \n",
      " 6   weekday_code                    731 non-null    category      \n",
      " 7   workingday                      731 non-null    bool          \n",
      " 8   weather_condition               731 non-null    category      \n",
      " 9   normalized_temperature          731 non-null    float64       \n",
      " 10  normalized_feeling_temperature  731 non-null    float64       \n",
      " 11  normalized_humidity             731 non-null    float64       \n",
      " 12  normalized_wind_speed           731 non-null    float64       \n",
      " 13  casual_users                    731 non-null    int64         \n",
      " 14  registered_users                731 non-null    int64         \n",
      " 15  total_rentals                   731 non-null    int64         \n",
      "dtypes: bool(2), category(5), datetime64[ns](1), float64(4), int64(4)\n",
      "memory usage: 57.8 KB\n"
     ]
    }
   ],
   "source": [
    "days_df.info()"
   ]
  },
  {
   "cell_type": "code",
   "execution_count": 36,
   "id": "34647423-90b1-4942-af35-de1001dfcd9a",
   "metadata": {
    "jupyter": {
     "source_hidden": true
    }
   },
   "outputs": [
    {
     "data": {
      "text/plain": [
       "record_id                         0\n",
       "date                              0\n",
       "season_code                       0\n",
       "year_code                         0\n",
       "month                             0\n",
       "holiday                           0\n",
       "weekday_code                      0\n",
       "workingday                        0\n",
       "weather_condition                 0\n",
       "normalized_temperature            0\n",
       "normalized_feeling_temperature    0\n",
       "normalized_humidity               0\n",
       "normalized_wind_speed             0\n",
       "casual_users                      0\n",
       "registered_users                  0\n",
       "total_rentals                     0\n",
       "dtype: int64"
      ]
     },
     "execution_count": 36,
     "metadata": {},
     "output_type": "execute_result"
    }
   ],
   "source": [
    "days_df.isna().sum()"
   ]
  },
  {
   "cell_type": "code",
   "execution_count": 37,
   "id": "16493def-0f69-46a7-aea8-8741db373c34",
   "metadata": {
    "jupyter": {
     "source_hidden": true
    }
   },
   "outputs": [
    {
     "name": "stdout",
     "output_type": "stream",
     "text": [
      "Jumlah duplikasi:  0\n"
     ]
    }
   ],
   "source": [
    "print(\"Jumlah duplikasi: \", days_df.duplicated().sum())"
   ]
  },
  {
   "cell_type": "code",
   "execution_count": 38,
   "id": "045f0958-0c1c-472a-b9de-4cbf70a33154",
   "metadata": {
    "jupyter": {
     "source_hidden": true
    }
   },
   "outputs": [
    {
     "data": {
      "text/html": [
       "<div>\n",
       "<style scoped>\n",
       "    .dataframe tbody tr th:only-of-type {\n",
       "        vertical-align: middle;\n",
       "    }\n",
       "\n",
       "    .dataframe tbody tr th {\n",
       "        vertical-align: top;\n",
       "    }\n",
       "\n",
       "    .dataframe thead th {\n",
       "        text-align: right;\n",
       "    }\n",
       "</style>\n",
       "<table border=\"1\" class=\"dataframe\">\n",
       "  <thead>\n",
       "    <tr style=\"text-align: right;\">\n",
       "      <th></th>\n",
       "      <th>record_id</th>\n",
       "      <th>date</th>\n",
       "      <th>normalized_temperature</th>\n",
       "      <th>normalized_feeling_temperature</th>\n",
       "      <th>normalized_humidity</th>\n",
       "      <th>normalized_wind_speed</th>\n",
       "      <th>casual_users</th>\n",
       "      <th>registered_users</th>\n",
       "      <th>total_rentals</th>\n",
       "    </tr>\n",
       "  </thead>\n",
       "  <tbody>\n",
       "    <tr>\n",
       "      <th>count</th>\n",
       "      <td>731.000000</td>\n",
       "      <td>731</td>\n",
       "      <td>731.000000</td>\n",
       "      <td>731.000000</td>\n",
       "      <td>731.000000</td>\n",
       "      <td>731.000000</td>\n",
       "      <td>731.000000</td>\n",
       "      <td>731.000000</td>\n",
       "      <td>731.000000</td>\n",
       "    </tr>\n",
       "    <tr>\n",
       "      <th>mean</th>\n",
       "      <td>366.000000</td>\n",
       "      <td>2012-01-01 00:00:00</td>\n",
       "      <td>0.495385</td>\n",
       "      <td>0.474354</td>\n",
       "      <td>0.628699</td>\n",
       "      <td>0.190486</td>\n",
       "      <td>848.176471</td>\n",
       "      <td>3656.172367</td>\n",
       "      <td>4504.348837</td>\n",
       "    </tr>\n",
       "    <tr>\n",
       "      <th>min</th>\n",
       "      <td>1.000000</td>\n",
       "      <td>2011-01-01 00:00:00</td>\n",
       "      <td>0.059130</td>\n",
       "      <td>0.079070</td>\n",
       "      <td>0.187917</td>\n",
       "      <td>0.022392</td>\n",
       "      <td>2.000000</td>\n",
       "      <td>20.000000</td>\n",
       "      <td>22.000000</td>\n",
       "    </tr>\n",
       "    <tr>\n",
       "      <th>25%</th>\n",
       "      <td>183.500000</td>\n",
       "      <td>2011-07-02 12:00:00</td>\n",
       "      <td>0.337083</td>\n",
       "      <td>0.337842</td>\n",
       "      <td>0.521041</td>\n",
       "      <td>0.134950</td>\n",
       "      <td>315.500000</td>\n",
       "      <td>2497.000000</td>\n",
       "      <td>3152.000000</td>\n",
       "    </tr>\n",
       "    <tr>\n",
       "      <th>50%</th>\n",
       "      <td>366.000000</td>\n",
       "      <td>2012-01-01 00:00:00</td>\n",
       "      <td>0.498333</td>\n",
       "      <td>0.486733</td>\n",
       "      <td>0.626667</td>\n",
       "      <td>0.180975</td>\n",
       "      <td>713.000000</td>\n",
       "      <td>3662.000000</td>\n",
       "      <td>4548.000000</td>\n",
       "    </tr>\n",
       "    <tr>\n",
       "      <th>75%</th>\n",
       "      <td>548.500000</td>\n",
       "      <td>2012-07-01 12:00:00</td>\n",
       "      <td>0.655417</td>\n",
       "      <td>0.608602</td>\n",
       "      <td>0.730209</td>\n",
       "      <td>0.233214</td>\n",
       "      <td>1096.000000</td>\n",
       "      <td>4776.500000</td>\n",
       "      <td>5956.000000</td>\n",
       "    </tr>\n",
       "    <tr>\n",
       "      <th>max</th>\n",
       "      <td>731.000000</td>\n",
       "      <td>2012-12-31 00:00:00</td>\n",
       "      <td>0.861667</td>\n",
       "      <td>0.840896</td>\n",
       "      <td>0.972500</td>\n",
       "      <td>0.507463</td>\n",
       "      <td>3410.000000</td>\n",
       "      <td>6946.000000</td>\n",
       "      <td>8714.000000</td>\n",
       "    </tr>\n",
       "    <tr>\n",
       "      <th>std</th>\n",
       "      <td>211.165812</td>\n",
       "      <td>NaN</td>\n",
       "      <td>0.183051</td>\n",
       "      <td>0.162961</td>\n",
       "      <td>0.140526</td>\n",
       "      <td>0.077498</td>\n",
       "      <td>686.622488</td>\n",
       "      <td>1560.256377</td>\n",
       "      <td>1937.211452</td>\n",
       "    </tr>\n",
       "  </tbody>\n",
       "</table>\n",
       "</div>"
      ],
      "text/plain": [
       "        record_id                 date  normalized_temperature  \\\n",
       "count  731.000000                  731              731.000000   \n",
       "mean   366.000000  2012-01-01 00:00:00                0.495385   \n",
       "min      1.000000  2011-01-01 00:00:00                0.059130   \n",
       "25%    183.500000  2011-07-02 12:00:00                0.337083   \n",
       "50%    366.000000  2012-01-01 00:00:00                0.498333   \n",
       "75%    548.500000  2012-07-01 12:00:00                0.655417   \n",
       "max    731.000000  2012-12-31 00:00:00                0.861667   \n",
       "std    211.165812                  NaN                0.183051   \n",
       "\n",
       "       normalized_feeling_temperature  normalized_humidity  \\\n",
       "count                      731.000000           731.000000   \n",
       "mean                         0.474354             0.628699   \n",
       "min                          0.079070             0.187917   \n",
       "25%                          0.337842             0.521041   \n",
       "50%                          0.486733             0.626667   \n",
       "75%                          0.608602             0.730209   \n",
       "max                          0.840896             0.972500   \n",
       "std                          0.162961             0.140526   \n",
       "\n",
       "       normalized_wind_speed  casual_users  registered_users  total_rentals  \n",
       "count             731.000000    731.000000        731.000000     731.000000  \n",
       "mean                0.190486    848.176471       3656.172367    4504.348837  \n",
       "min                 0.022392      2.000000         20.000000      22.000000  \n",
       "25%                 0.134950    315.500000       2497.000000    3152.000000  \n",
       "50%                 0.180975    713.000000       3662.000000    4548.000000  \n",
       "75%                 0.233214   1096.000000       4776.500000    5956.000000  \n",
       "max                 0.507463   3410.000000       6946.000000    8714.000000  \n",
       "std                 0.077498    686.622488       1560.256377    1937.211452  "
      ]
     },
     "execution_count": 38,
     "metadata": {},
     "output_type": "execute_result"
    }
   ],
   "source": [
    "days_df.describe()"
   ]
  },
  {
   "cell_type": "markdown",
   "id": "eae2830e-08bf-4e28-a00f-4326dae8fcb9",
   "metadata": {},
   "source": [
    "<h4>Membersihkan Tabel \"Hours\"</h4>"
   ]
  },
  {
   "cell_type": "markdown",
   "id": "e0186138-9375-40c4-91ce-699c7e635aa4",
   "metadata": {
    "jp-MarkdownHeadingCollapsed": true
   },
   "source": [
    "<h5>Mengubah nama kolom yang kurang deskriptif dan ambigu.</h5>"
   ]
  },
  {
   "cell_type": "code",
   "execution_count": 39,
   "id": "6ad1632d-4b0a-426d-8677-8e060fe78696",
   "metadata": {
    "jupyter": {
     "source_hidden": true
    }
   },
   "outputs": [
    {
     "data": {
      "text/plain": [
       "Index(['instant', 'dteday', 'season', 'yr', 'mnth', 'hr', 'holiday', 'weekday',\n",
       "       'workingday', 'weathersit', 'temp', 'atemp', 'hum', 'windspeed',\n",
       "       'casual', 'registered', 'cnt'],\n",
       "      dtype='object')"
      ]
     },
     "execution_count": 39,
     "metadata": {},
     "output_type": "execute_result"
    }
   ],
   "source": [
    "hours_df.columns"
   ]
  },
  {
   "cell_type": "markdown",
   "id": "fe91b10d-0fce-4c76-adbb-bcd4b19334a6",
   "metadata": {},
   "source": [
    "<h6>Kolom dengan Singkatan / Kurang Deskriptif</h6>"
   ]
  },
  {
   "cell_type": "code",
   "execution_count": 40,
   "id": "3dc12989-91f7-4c45-accf-f50ba1a1b81c",
   "metadata": {
    "jupyter": {
     "source_hidden": true
    }
   },
   "outputs": [],
   "source": [
    "hours_df = hours_df.rename(columns={\n",
    "    'instant': 'record_id',\n",
    "    'dteday': 'date',\n",
    "    'mnth': 'month',\n",
    "    'hr': 'hour',\n",
    "    'weathersit': 'weather_condition',\n",
    "    'cnt': 'total_rentals',\n",
    "})"
   ]
  },
  {
   "cell_type": "markdown",
   "id": "e40f8040-fe4c-4d31-9bfb-e5e73fb20a6d",
   "metadata": {},
   "source": [
    "<h6>Kolom dengan Nilai Ternomalisasi</h6>"
   ]
  },
  {
   "cell_type": "code",
   "execution_count": 41,
   "id": "cebae703-4333-4585-a7e7-c1a53fc61ef3",
   "metadata": {
    "jupyter": {
     "source_hidden": true
    }
   },
   "outputs": [],
   "source": [
    "hours_df = hours_df.rename(columns={\n",
    "    'temp': 'normalized_temperature',\n",
    "    'atemp': 'normalized_feeling_temperature',\n",
    "    'hum': 'normalized_humidity',\n",
    "    'windspeed': 'normalized_wind_speed',\n",
    "})"
   ]
  },
  {
   "cell_type": "markdown",
   "id": "e516a6fc-b308-473e-86e2-ba2054680d73",
   "metadata": {},
   "source": [
    "<h6>Kolom Kategorikal dengan Kode Numerik</h6>"
   ]
  },
  {
   "cell_type": "code",
   "execution_count": 42,
   "id": "b4b9c030-53b7-4ff4-b49f-2a1066a0a628",
   "metadata": {
    "jupyter": {
     "source_hidden": true
    }
   },
   "outputs": [],
   "source": [
    "hours_df = hours_df.rename(columns={\n",
    "    'yr': 'year_code',\n",
    "    'season': 'season_code',\n",
    "    'weekday': 'weekday_code',\n",
    "})"
   ]
  },
  {
   "cell_type": "markdown",
   "id": "ee4b9c1c-6bc9-48b3-92bb-512e94735d67",
   "metadata": {},
   "source": [
    "<h6>Kolom yang Membutuhkan Konteks Lebih Jelas.</h6>"
   ]
  },
  {
   "cell_type": "code",
   "execution_count": 43,
   "id": "a89faac4-56a5-45c4-8483-9b380d234abe",
   "metadata": {
    "jupyter": {
     "source_hidden": true
    }
   },
   "outputs": [],
   "source": [
    "hours_df = hours_df.rename(columns={\n",
    "    'casual': 'casual_users',\n",
    "    'registered': 'registered_users',\n",
    "})"
   ]
  },
  {
   "cell_type": "markdown",
   "id": "780b6ea8-ea83-446b-ae0c-0cd9a0e865f2",
   "metadata": {},
   "source": [
    "<h6>Cek hasil perubahan nama kolom</h6>"
   ]
  },
  {
   "cell_type": "code",
   "execution_count": 44,
   "id": "c0026507-5d7f-40ba-8e23-c0552fb8111a",
   "metadata": {
    "jupyter": {
     "source_hidden": true
    }
   },
   "outputs": [
    {
     "data": {
      "text/html": [
       "<div>\n",
       "<style scoped>\n",
       "    .dataframe tbody tr th:only-of-type {\n",
       "        vertical-align: middle;\n",
       "    }\n",
       "\n",
       "    .dataframe tbody tr th {\n",
       "        vertical-align: top;\n",
       "    }\n",
       "\n",
       "    .dataframe thead th {\n",
       "        text-align: right;\n",
       "    }\n",
       "</style>\n",
       "<table border=\"1\" class=\"dataframe\">\n",
       "  <thead>\n",
       "    <tr style=\"text-align: right;\">\n",
       "      <th></th>\n",
       "      <th>record_id</th>\n",
       "      <th>date</th>\n",
       "      <th>season_code</th>\n",
       "      <th>year_code</th>\n",
       "      <th>month</th>\n",
       "      <th>hour</th>\n",
       "      <th>holiday</th>\n",
       "      <th>weekday_code</th>\n",
       "      <th>workingday</th>\n",
       "      <th>weather_condition</th>\n",
       "      <th>normalized_temperature</th>\n",
       "      <th>normalized_feeling_temperature</th>\n",
       "      <th>normalized_humidity</th>\n",
       "      <th>normalized_wind_speed</th>\n",
       "      <th>casual_users</th>\n",
       "      <th>registered_users</th>\n",
       "      <th>total_rentals</th>\n",
       "    </tr>\n",
       "  </thead>\n",
       "  <tbody>\n",
       "    <tr>\n",
       "      <th>0</th>\n",
       "      <td>1</td>\n",
       "      <td>2011-01-01</td>\n",
       "      <td>1</td>\n",
       "      <td>0</td>\n",
       "      <td>1</td>\n",
       "      <td>0</td>\n",
       "      <td>0</td>\n",
       "      <td>6</td>\n",
       "      <td>0</td>\n",
       "      <td>1</td>\n",
       "      <td>0.24</td>\n",
       "      <td>0.2879</td>\n",
       "      <td>0.81</td>\n",
       "      <td>0.0</td>\n",
       "      <td>3</td>\n",
       "      <td>13</td>\n",
       "      <td>16</td>\n",
       "    </tr>\n",
       "    <tr>\n",
       "      <th>1</th>\n",
       "      <td>2</td>\n",
       "      <td>2011-01-01</td>\n",
       "      <td>1</td>\n",
       "      <td>0</td>\n",
       "      <td>1</td>\n",
       "      <td>1</td>\n",
       "      <td>0</td>\n",
       "      <td>6</td>\n",
       "      <td>0</td>\n",
       "      <td>1</td>\n",
       "      <td>0.22</td>\n",
       "      <td>0.2727</td>\n",
       "      <td>0.80</td>\n",
       "      <td>0.0</td>\n",
       "      <td>8</td>\n",
       "      <td>32</td>\n",
       "      <td>40</td>\n",
       "    </tr>\n",
       "    <tr>\n",
       "      <th>2</th>\n",
       "      <td>3</td>\n",
       "      <td>2011-01-01</td>\n",
       "      <td>1</td>\n",
       "      <td>0</td>\n",
       "      <td>1</td>\n",
       "      <td>2</td>\n",
       "      <td>0</td>\n",
       "      <td>6</td>\n",
       "      <td>0</td>\n",
       "      <td>1</td>\n",
       "      <td>0.22</td>\n",
       "      <td>0.2727</td>\n",
       "      <td>0.80</td>\n",
       "      <td>0.0</td>\n",
       "      <td>5</td>\n",
       "      <td>27</td>\n",
       "      <td>32</td>\n",
       "    </tr>\n",
       "    <tr>\n",
       "      <th>3</th>\n",
       "      <td>4</td>\n",
       "      <td>2011-01-01</td>\n",
       "      <td>1</td>\n",
       "      <td>0</td>\n",
       "      <td>1</td>\n",
       "      <td>3</td>\n",
       "      <td>0</td>\n",
       "      <td>6</td>\n",
       "      <td>0</td>\n",
       "      <td>1</td>\n",
       "      <td>0.24</td>\n",
       "      <td>0.2879</td>\n",
       "      <td>0.75</td>\n",
       "      <td>0.0</td>\n",
       "      <td>3</td>\n",
       "      <td>10</td>\n",
       "      <td>13</td>\n",
       "    </tr>\n",
       "    <tr>\n",
       "      <th>4</th>\n",
       "      <td>5</td>\n",
       "      <td>2011-01-01</td>\n",
       "      <td>1</td>\n",
       "      <td>0</td>\n",
       "      <td>1</td>\n",
       "      <td>4</td>\n",
       "      <td>0</td>\n",
       "      <td>6</td>\n",
       "      <td>0</td>\n",
       "      <td>1</td>\n",
       "      <td>0.24</td>\n",
       "      <td>0.2879</td>\n",
       "      <td>0.75</td>\n",
       "      <td>0.0</td>\n",
       "      <td>0</td>\n",
       "      <td>1</td>\n",
       "      <td>1</td>\n",
       "    </tr>\n",
       "  </tbody>\n",
       "</table>\n",
       "</div>"
      ],
      "text/plain": [
       "   record_id        date  season_code  year_code  month  hour  holiday  \\\n",
       "0          1  2011-01-01            1          0      1     0        0   \n",
       "1          2  2011-01-01            1          0      1     1        0   \n",
       "2          3  2011-01-01            1          0      1     2        0   \n",
       "3          4  2011-01-01            1          0      1     3        0   \n",
       "4          5  2011-01-01            1          0      1     4        0   \n",
       "\n",
       "   weekday_code  workingday  weather_condition  normalized_temperature  \\\n",
       "0             6           0                  1                    0.24   \n",
       "1             6           0                  1                    0.22   \n",
       "2             6           0                  1                    0.22   \n",
       "3             6           0                  1                    0.24   \n",
       "4             6           0                  1                    0.24   \n",
       "\n",
       "   normalized_feeling_temperature  normalized_humidity  normalized_wind_speed  \\\n",
       "0                          0.2879                 0.81                    0.0   \n",
       "1                          0.2727                 0.80                    0.0   \n",
       "2                          0.2727                 0.80                    0.0   \n",
       "3                          0.2879                 0.75                    0.0   \n",
       "4                          0.2879                 0.75                    0.0   \n",
       "\n",
       "   casual_users  registered_users  total_rentals  \n",
       "0             3                13             16  \n",
       "1             8                32             40  \n",
       "2             5                27             32  \n",
       "3             3                10             13  \n",
       "4             0                 1              1  "
      ]
     },
     "execution_count": 44,
     "metadata": {},
     "output_type": "execute_result"
    }
   ],
   "source": [
    "hours_df.head()"
   ]
  },
  {
   "cell_type": "markdown",
   "id": "3b07de4a-94bd-4d3f-b6c8-c1acd48ee944",
   "metadata": {
    "jp-MarkdownHeadingCollapsed": true
   },
   "source": [
    "<h5>Mengubah tipe data pada kolom \"date\" dari object ke datetime</h5>"
   ]
  },
  {
   "cell_type": "code",
   "execution_count": 45,
   "id": "4b036a22-2f54-4fa2-919b-d386803797d3",
   "metadata": {
    "jupyter": {
     "source_hidden": true
    }
   },
   "outputs": [
    {
     "name": "stdout",
     "output_type": "stream",
     "text": [
      "<class 'pandas.core.series.Series'>\n",
      "RangeIndex: 17379 entries, 0 to 17378\n",
      "Series name: date\n",
      "Non-Null Count  Dtype \n",
      "--------------  ----- \n",
      "17379 non-null  object\n",
      "dtypes: object(1)\n",
      "memory usage: 135.9+ KB\n"
     ]
    }
   ],
   "source": [
    "hours_df['date'].info()"
   ]
  },
  {
   "cell_type": "code",
   "execution_count": 46,
   "id": "63de6df6-6819-4bff-b3b3-0b0c4d406d86",
   "metadata": {
    "jupyter": {
     "source_hidden": true
    }
   },
   "outputs": [],
   "source": [
    "hours_df['date'] = pd.to_datetime(hours_df['date'])"
   ]
  },
  {
   "cell_type": "code",
   "execution_count": 47,
   "id": "e4193475-6776-4852-b342-94e4f23932f3",
   "metadata": {
    "jupyter": {
     "source_hidden": true
    }
   },
   "outputs": [
    {
     "name": "stdout",
     "output_type": "stream",
     "text": [
      "<class 'pandas.core.series.Series'>\n",
      "RangeIndex: 17379 entries, 0 to 17378\n",
      "Series name: date\n",
      "Non-Null Count  Dtype         \n",
      "--------------  -----         \n",
      "17379 non-null  datetime64[ns]\n",
      "dtypes: datetime64[ns](1)\n",
      "memory usage: 135.9 KB\n"
     ]
    }
   ],
   "source": [
    "hours_df['date'].info()"
   ]
  },
  {
   "cell_type": "markdown",
   "id": "5d1ddb7a-b0c8-4393-9b1f-3b3ce835239e",
   "metadata": {
    "jp-MarkdownHeadingCollapsed": true
   },
   "source": [
    "<h5>Mengubah tipe data pada kolom dengan kode numerik(nilai diskret terbatas) ke tipe kategorikal dan boolean</h5>"
   ]
  },
  {
   "cell_type": "markdown",
   "id": "4ab22a2f-fcd6-4804-9c3f-38b3aa133a95",
   "metadata": {},
   "source": [
    "<p><strong>Alasan Mengubah Kode Numerik ke Kategorikal atau Boolean</strong></p>\n",
    "<ul>\n",
    "    <li>Efisiensi Memori – Kategori lebih hemat dibanding integer jika jumlah nilai unik sedikit.</li>\n",
    "    <li>Mencegah Kesalahan Interpretasi – Angka seperti season_code(1-4) tidak memiliki hubungan matematis.</li>\n",
    "    <li>Meningkatkan Akurasi Model – Model tidak salah menganggap variabel kategori sebagai numerik.</li>\n",
    "    <li>Memudahkan Analisis & Visualisasi – Grouping, filtering, dan plotting lebih intuitif.</li>\n",
    "    <li>Boolean Lebih Jelas untuk Data Biner – holiday (0/1) lebih baik sebagai True/False.</li>\n",
    "</ul>"
   ]
  },
  {
   "cell_type": "markdown",
   "id": "4f9eee5e-8377-4c4c-b30c-4f2f84b4bd5e",
   "metadata": {},
   "source": [
    "<h6>Kategorikal</h6>"
   ]
  },
  {
   "cell_type": "code",
   "execution_count": 48,
   "id": "03d988f2-f312-43a6-84fb-678b94100738",
   "metadata": {
    "jupyter": {
     "source_hidden": true
    }
   },
   "outputs": [
    {
     "name": "stdout",
     "output_type": "stream",
     "text": [
      "<class 'pandas.core.frame.DataFrame'>\n",
      "RangeIndex: 17379 entries, 0 to 17378\n",
      "Data columns (total 5 columns):\n",
      " #   Column             Non-Null Count  Dtype\n",
      "---  ------             --------------  -----\n",
      " 0   month              17379 non-null  int64\n",
      " 1   weekday_code       17379 non-null  int64\n",
      " 2   season_code        17379 non-null  int64\n",
      " 3   year_code          17379 non-null  int64\n",
      " 4   weather_condition  17379 non-null  int64\n",
      "dtypes: int64(5)\n",
      "memory usage: 679.0 KB\n"
     ]
    }
   ],
   "source": [
    "hours_df[['month', 'weekday_code', 'season_code', 'year_code', 'weather_condition']].info()"
   ]
  },
  {
   "cell_type": "code",
   "execution_count": 49,
   "id": "69242124-754b-4401-ac09-e3afe40363e3",
   "metadata": {
    "jupyter": {
     "source_hidden": true
    }
   },
   "outputs": [],
   "source": [
    "hours_df['month'] = hours_df['month'].astype('category')\n",
    "hours_df['weekday_code'] = hours_df['weekday_code'].astype('category')\n",
    "hours_df['season_code'] = hours_df['season_code'].astype('category')\n",
    "hours_df['year_code'] = hours_df['year_code'].astype('category')\n",
    "hours_df['weather_condition'] = hours_df['weather_condition'].astype('category')"
   ]
  },
  {
   "cell_type": "code",
   "execution_count": 50,
   "id": "c8b04a45-187a-4a03-9474-70daee04325b",
   "metadata": {
    "jupyter": {
     "source_hidden": true
    }
   },
   "outputs": [
    {
     "name": "stdout",
     "output_type": "stream",
     "text": [
      "<class 'pandas.core.frame.DataFrame'>\n",
      "RangeIndex: 17379 entries, 0 to 17378\n",
      "Data columns (total 5 columns):\n",
      " #   Column             Non-Null Count  Dtype   \n",
      "---  ------             --------------  -----   \n",
      " 0   month              17379 non-null  category\n",
      " 1   weekday_code       17379 non-null  category\n",
      " 2   season_code        17379 non-null  category\n",
      " 3   year_code          17379 non-null  category\n",
      " 4   weather_condition  17379 non-null  category\n",
      "dtypes: category(5)\n",
      "memory usage: 86.2 KB\n"
     ]
    }
   ],
   "source": [
    "hours_df[['month', 'weekday_code', 'season_code', 'year_code', 'weather_condition']].info()"
   ]
  },
  {
   "cell_type": "markdown",
   "id": "040e6e6b-5575-4524-84e5-9444f91e5436",
   "metadata": {},
   "source": [
    "<h6>Boolean</h6>"
   ]
  },
  {
   "cell_type": "code",
   "execution_count": 51,
   "id": "4408c614-f9f5-4b1c-8585-92756aade38f",
   "metadata": {
    "jupyter": {
     "source_hidden": true
    }
   },
   "outputs": [
    {
     "name": "stdout",
     "output_type": "stream",
     "text": [
      "<class 'pandas.core.frame.DataFrame'>\n",
      "RangeIndex: 17379 entries, 0 to 17378\n",
      "Data columns (total 2 columns):\n",
      " #   Column      Non-Null Count  Dtype\n",
      "---  ------      --------------  -----\n",
      " 0   holiday     17379 non-null  int64\n",
      " 1   workingday  17379 non-null  int64\n",
      "dtypes: int64(2)\n",
      "memory usage: 271.7 KB\n"
     ]
    }
   ],
   "source": [
    "hours_df[['holiday', 'workingday']].info()"
   ]
  },
  {
   "cell_type": "code",
   "execution_count": 52,
   "id": "efe48f4b-a4bd-4703-806e-7b67c29f4e2f",
   "metadata": {
    "jupyter": {
     "source_hidden": true
    }
   },
   "outputs": [],
   "source": [
    "hours_df['holiday'] = hours_df['holiday'].astype('bool')\n",
    "hours_df['workingday'] = hours_df['workingday'].astype('bool')"
   ]
  },
  {
   "cell_type": "code",
   "execution_count": 53,
   "id": "1c27bb63-c5f7-44b7-9e1e-e7feb24fdd26",
   "metadata": {
    "jupyter": {
     "source_hidden": true
    }
   },
   "outputs": [
    {
     "name": "stdout",
     "output_type": "stream",
     "text": [
      "<class 'pandas.core.frame.DataFrame'>\n",
      "RangeIndex: 17379 entries, 0 to 17378\n",
      "Data columns (total 2 columns):\n",
      " #   Column      Non-Null Count  Dtype\n",
      "---  ------      --------------  -----\n",
      " 0   holiday     17379 non-null  bool \n",
      " 1   workingday  17379 non-null  bool \n",
      "dtypes: bool(2)\n",
      "memory usage: 34.1 KB\n"
     ]
    }
   ],
   "source": [
    "hours_df[['holiday', 'workingday']].info()"
   ]
  },
  {
   "cell_type": "markdown",
   "id": "f2960371-ba5c-4123-956d-1c8c765802fc",
   "metadata": {},
   "source": [
    "<h6>Validasi</h6>"
   ]
  },
  {
   "cell_type": "code",
   "execution_count": 54,
   "id": "c7b90b82-8072-453e-ac2b-ca236b0f840f",
   "metadata": {
    "jupyter": {
     "source_hidden": true
    }
   },
   "outputs": [
    {
     "name": "stdout",
     "output_type": "stream",
     "text": [
      "<class 'pandas.core.frame.DataFrame'>\n",
      "RangeIndex: 17379 entries, 0 to 17378\n",
      "Data columns (total 17 columns):\n",
      " #   Column                          Non-Null Count  Dtype         \n",
      "---  ------                          --------------  -----         \n",
      " 0   record_id                       17379 non-null  int64         \n",
      " 1   date                            17379 non-null  datetime64[ns]\n",
      " 2   season_code                     17379 non-null  category      \n",
      " 3   year_code                       17379 non-null  category      \n",
      " 4   month                           17379 non-null  category      \n",
      " 5   hour                            17379 non-null  int64         \n",
      " 6   holiday                         17379 non-null  bool          \n",
      " 7   weekday_code                    17379 non-null  category      \n",
      " 8   workingday                      17379 non-null  bool          \n",
      " 9   weather_condition               17379 non-null  category      \n",
      " 10  normalized_temperature          17379 non-null  float64       \n",
      " 11  normalized_feeling_temperature  17379 non-null  float64       \n",
      " 12  normalized_humidity             17379 non-null  float64       \n",
      " 13  normalized_wind_speed           17379 non-null  float64       \n",
      " 14  casual_users                    17379 non-null  int64         \n",
      " 15  registered_users                17379 non-null  int64         \n",
      " 16  total_rentals                   17379 non-null  int64         \n",
      "dtypes: bool(2), category(5), datetime64[ns](1), float64(4), int64(5)\n",
      "memory usage: 1.4 MB\n"
     ]
    }
   ],
   "source": [
    "hours_df.info()"
   ]
  },
  {
   "cell_type": "markdown",
   "id": "1d04dc41-8fa3-47cb-81e1-a5de31ea4564",
   "metadata": {
    "jp-MarkdownHeadingCollapsed": true
   },
   "source": [
    "<h5>Perbaikan Kolom normalized_humidity</h5>"
   ]
  },
  {
   "cell_type": "markdown",
   "id": "60fffe93-543d-45fe-b510-73e65a20ced7",
   "metadata": {},
   "source": [
    "<h6>Identifikasi Data dengan Kelembapan 0%</h6>"
   ]
  },
  {
   "cell_type": "code",
   "execution_count": 55,
   "id": "7df8cd2c-7691-43e3-8e0c-f495bd89a9ab",
   "metadata": {
    "jupyter": {
     "source_hidden": true
    }
   },
   "outputs": [
    {
     "name": "stdout",
     "output_type": "stream",
     "text": [
      "Jumlah baris dengan kelembapan 0%: 22\n",
      "           date  normalized_humidity\n",
      "1551 2011-03-10                  0.0\n",
      "1552 2011-03-10                  0.0\n",
      "1553 2011-03-10                  0.0\n",
      "1554 2011-03-10                  0.0\n",
      "1555 2011-03-10                  0.0\n",
      "1556 2011-03-10                  0.0\n",
      "1557 2011-03-10                  0.0\n",
      "1558 2011-03-10                  0.0\n",
      "1559 2011-03-10                  0.0\n",
      "1560 2011-03-10                  0.0\n",
      "1561 2011-03-10                  0.0\n",
      "1562 2011-03-10                  0.0\n",
      "1563 2011-03-10                  0.0\n",
      "1564 2011-03-10                  0.0\n",
      "1565 2011-03-10                  0.0\n",
      "1566 2011-03-10                  0.0\n",
      "1567 2011-03-10                  0.0\n",
      "1568 2011-03-10                  0.0\n",
      "1569 2011-03-10                  0.0\n",
      "1570 2011-03-10                  0.0\n",
      "1571 2011-03-10                  0.0\n",
      "1572 2011-03-10                  0.0\n"
     ]
    }
   ],
   "source": [
    "zero_humidity = hours_df[hours_df[\"normalized_humidity\"] == 0]\n",
    "print(\"Jumlah baris dengan kelembapan 0%:\", len(zero_humidity))\n",
    "print(zero_humidity[[\"date\", \"normalized_humidity\"]])"
   ]
  },
  {
   "cell_type": "markdown",
   "id": "d07aae9a-d186-4531-b6e4-7f0e49207af0",
   "metadata": {},
   "source": [
    "<h6>Imputasi dengan rata-rata kelembapan bulanan</h6>"
   ]
  },
  {
   "cell_type": "code",
   "execution_count": 56,
   "id": "d7da2986-3f56-4fb0-8430-3fb4c6f1c9a5",
   "metadata": {
    "jupyter": {
     "source_hidden": true
    }
   },
   "outputs": [],
   "source": [
    "for index, row in zero_humidity.iterrows():\n",
    "    month = row[\"date\"].month\n",
    "    avg_hum_month = hours_df[hours_df[\"month\"] == month][\"normalized_humidity\"].mean()\n",
    "    hours_df.loc[index, \"normalized_humidity\"] = avg_hum_month"
   ]
  },
  {
   "cell_type": "markdown",
   "id": "9a73a22c-3a86-435a-bf28-18768b54b488",
   "metadata": {},
   "source": [
    "<h6>Validasi</h6>"
   ]
  },
  {
   "cell_type": "code",
   "execution_count": 57,
   "id": "0e872ef8-1bb3-4009-b360-d9e12ce7b6aa",
   "metadata": {
    "jupyter": {
     "source_hidden": true
    }
   },
   "outputs": [
    {
     "name": "stdout",
     "output_type": "stream",
     "text": [
      "Nilai minimum kelembapan setelah perbaikan: 0.08\n"
     ]
    }
   ],
   "source": [
    "print(\"Nilai minimum kelembapan setelah perbaikan:\", hours_df[\"normalized_humidity\"].min())"
   ]
  },
  {
   "cell_type": "markdown",
   "id": "bb0181c0-15e0-43c3-9d3f-e9d84d09a4e2",
   "metadata": {},
   "source": [
    "<h5>Validasi Tabel Hours Setelah Perbaikan</h5>"
   ]
  },
  {
   "cell_type": "code",
   "execution_count": 58,
   "id": "d7e27e8f-60d4-4e06-bd75-ee847ecee74d",
   "metadata": {
    "jupyter": {
     "source_hidden": true
    }
   },
   "outputs": [
    {
     "name": "stdout",
     "output_type": "stream",
     "text": [
      "<class 'pandas.core.frame.DataFrame'>\n",
      "RangeIndex: 17379 entries, 0 to 17378\n",
      "Data columns (total 17 columns):\n",
      " #   Column                          Non-Null Count  Dtype         \n",
      "---  ------                          --------------  -----         \n",
      " 0   record_id                       17379 non-null  int64         \n",
      " 1   date                            17379 non-null  datetime64[ns]\n",
      " 2   season_code                     17379 non-null  category      \n",
      " 3   year_code                       17379 non-null  category      \n",
      " 4   month                           17379 non-null  category      \n",
      " 5   hour                            17379 non-null  int64         \n",
      " 6   holiday                         17379 non-null  bool          \n",
      " 7   weekday_code                    17379 non-null  category      \n",
      " 8   workingday                      17379 non-null  bool          \n",
      " 9   weather_condition               17379 non-null  category      \n",
      " 10  normalized_temperature          17379 non-null  float64       \n",
      " 11  normalized_feeling_temperature  17379 non-null  float64       \n",
      " 12  normalized_humidity             17379 non-null  float64       \n",
      " 13  normalized_wind_speed           17379 non-null  float64       \n",
      " 14  casual_users                    17379 non-null  int64         \n",
      " 15  registered_users                17379 non-null  int64         \n",
      " 16  total_rentals                   17379 non-null  int64         \n",
      "dtypes: bool(2), category(5), datetime64[ns](1), float64(4), int64(5)\n",
      "memory usage: 1.4 MB\n"
     ]
    }
   ],
   "source": [
    "hours_df.info()"
   ]
  },
  {
   "cell_type": "code",
   "execution_count": 59,
   "id": "284ec302-4856-477b-bbb6-0343cca241b5",
   "metadata": {
    "jupyter": {
     "source_hidden": true
    }
   },
   "outputs": [
    {
     "data": {
      "text/plain": [
       "record_id                         0\n",
       "date                              0\n",
       "season_code                       0\n",
       "year_code                         0\n",
       "month                             0\n",
       "hour                              0\n",
       "holiday                           0\n",
       "weekday_code                      0\n",
       "workingday                        0\n",
       "weather_condition                 0\n",
       "normalized_temperature            0\n",
       "normalized_feeling_temperature    0\n",
       "normalized_humidity               0\n",
       "normalized_wind_speed             0\n",
       "casual_users                      0\n",
       "registered_users                  0\n",
       "total_rentals                     0\n",
       "dtype: int64"
      ]
     },
     "execution_count": 59,
     "metadata": {},
     "output_type": "execute_result"
    }
   ],
   "source": [
    "hours_df.isna().sum()"
   ]
  },
  {
   "cell_type": "code",
   "execution_count": 60,
   "id": "bba53f7c-1540-443b-996c-4c1de52a71f0",
   "metadata": {
    "jupyter": {
     "source_hidden": true
    }
   },
   "outputs": [
    {
     "name": "stdout",
     "output_type": "stream",
     "text": [
      "Jumlah duplikasi:  0\n"
     ]
    }
   ],
   "source": [
    "print(\"Jumlah duplikasi: \", hours_df.duplicated().sum())"
   ]
  },
  {
   "cell_type": "code",
   "execution_count": 61,
   "id": "5bde2250-b352-45f3-8722-cf9ee539f3a5",
   "metadata": {
    "jupyter": {
     "source_hidden": true
    }
   },
   "outputs": [
    {
     "data": {
      "text/html": [
       "<div>\n",
       "<style scoped>\n",
       "    .dataframe tbody tr th:only-of-type {\n",
       "        vertical-align: middle;\n",
       "    }\n",
       "\n",
       "    .dataframe tbody tr th {\n",
       "        vertical-align: top;\n",
       "    }\n",
       "\n",
       "    .dataframe thead th {\n",
       "        text-align: right;\n",
       "    }\n",
       "</style>\n",
       "<table border=\"1\" class=\"dataframe\">\n",
       "  <thead>\n",
       "    <tr style=\"text-align: right;\">\n",
       "      <th></th>\n",
       "      <th>record_id</th>\n",
       "      <th>date</th>\n",
       "      <th>hour</th>\n",
       "      <th>normalized_temperature</th>\n",
       "      <th>normalized_feeling_temperature</th>\n",
       "      <th>normalized_humidity</th>\n",
       "      <th>normalized_wind_speed</th>\n",
       "      <th>casual_users</th>\n",
       "      <th>registered_users</th>\n",
       "      <th>total_rentals</th>\n",
       "    </tr>\n",
       "  </thead>\n",
       "  <tbody>\n",
       "    <tr>\n",
       "      <th>count</th>\n",
       "      <td>17379.0000</td>\n",
       "      <td>17379</td>\n",
       "      <td>17379.000000</td>\n",
       "      <td>17379.000000</td>\n",
       "      <td>17379.000000</td>\n",
       "      <td>17379.000000</td>\n",
       "      <td>17379.000000</td>\n",
       "      <td>17379.000000</td>\n",
       "      <td>17379.000000</td>\n",
       "      <td>17379.000000</td>\n",
       "    </tr>\n",
       "    <tr>\n",
       "      <th>mean</th>\n",
       "      <td>8690.0000</td>\n",
       "      <td>2012-01-02 04:08:34.552045568</td>\n",
       "      <td>11.546752</td>\n",
       "      <td>0.496987</td>\n",
       "      <td>0.475775</td>\n",
       "      <td>0.627980</td>\n",
       "      <td>0.190098</td>\n",
       "      <td>35.676218</td>\n",
       "      <td>153.786869</td>\n",
       "      <td>189.463088</td>\n",
       "    </tr>\n",
       "    <tr>\n",
       "      <th>min</th>\n",
       "      <td>1.0000</td>\n",
       "      <td>2011-01-01 00:00:00</td>\n",
       "      <td>0.000000</td>\n",
       "      <td>0.020000</td>\n",
       "      <td>0.000000</td>\n",
       "      <td>0.080000</td>\n",
       "      <td>0.000000</td>\n",
       "      <td>0.000000</td>\n",
       "      <td>0.000000</td>\n",
       "      <td>1.000000</td>\n",
       "    </tr>\n",
       "    <tr>\n",
       "      <th>25%</th>\n",
       "      <td>4345.5000</td>\n",
       "      <td>2011-07-04 00:00:00</td>\n",
       "      <td>6.000000</td>\n",
       "      <td>0.340000</td>\n",
       "      <td>0.333300</td>\n",
       "      <td>0.480000</td>\n",
       "      <td>0.104500</td>\n",
       "      <td>4.000000</td>\n",
       "      <td>34.000000</td>\n",
       "      <td>40.000000</td>\n",
       "    </tr>\n",
       "    <tr>\n",
       "      <th>50%</th>\n",
       "      <td>8690.0000</td>\n",
       "      <td>2012-01-02 00:00:00</td>\n",
       "      <td>12.000000</td>\n",
       "      <td>0.500000</td>\n",
       "      <td>0.484800</td>\n",
       "      <td>0.630000</td>\n",
       "      <td>0.194000</td>\n",
       "      <td>17.000000</td>\n",
       "      <td>115.000000</td>\n",
       "      <td>142.000000</td>\n",
       "    </tr>\n",
       "    <tr>\n",
       "      <th>75%</th>\n",
       "      <td>13034.5000</td>\n",
       "      <td>2012-07-02 00:00:00</td>\n",
       "      <td>18.000000</td>\n",
       "      <td>0.660000</td>\n",
       "      <td>0.621200</td>\n",
       "      <td>0.780000</td>\n",
       "      <td>0.253700</td>\n",
       "      <td>48.000000</td>\n",
       "      <td>220.000000</td>\n",
       "      <td>281.000000</td>\n",
       "    </tr>\n",
       "    <tr>\n",
       "      <th>max</th>\n",
       "      <td>17379.0000</td>\n",
       "      <td>2012-12-31 00:00:00</td>\n",
       "      <td>23.000000</td>\n",
       "      <td>1.000000</td>\n",
       "      <td>1.000000</td>\n",
       "      <td>1.000000</td>\n",
       "      <td>0.850700</td>\n",
       "      <td>367.000000</td>\n",
       "      <td>886.000000</td>\n",
       "      <td>977.000000</td>\n",
       "    </tr>\n",
       "    <tr>\n",
       "      <th>std</th>\n",
       "      <td>5017.0295</td>\n",
       "      <td>NaN</td>\n",
       "      <td>6.914405</td>\n",
       "      <td>0.192556</td>\n",
       "      <td>0.171850</td>\n",
       "      <td>0.191637</td>\n",
       "      <td>0.122340</td>\n",
       "      <td>49.305030</td>\n",
       "      <td>151.357286</td>\n",
       "      <td>181.387599</td>\n",
       "    </tr>\n",
       "  </tbody>\n",
       "</table>\n",
       "</div>"
      ],
      "text/plain": [
       "        record_id                           date          hour  \\\n",
       "count  17379.0000                          17379  17379.000000   \n",
       "mean    8690.0000  2012-01-02 04:08:34.552045568     11.546752   \n",
       "min        1.0000            2011-01-01 00:00:00      0.000000   \n",
       "25%     4345.5000            2011-07-04 00:00:00      6.000000   \n",
       "50%     8690.0000            2012-01-02 00:00:00     12.000000   \n",
       "75%    13034.5000            2012-07-02 00:00:00     18.000000   \n",
       "max    17379.0000            2012-12-31 00:00:00     23.000000   \n",
       "std     5017.0295                            NaN      6.914405   \n",
       "\n",
       "       normalized_temperature  normalized_feeling_temperature  \\\n",
       "count            17379.000000                    17379.000000   \n",
       "mean                 0.496987                        0.475775   \n",
       "min                  0.020000                        0.000000   \n",
       "25%                  0.340000                        0.333300   \n",
       "50%                  0.500000                        0.484800   \n",
       "75%                  0.660000                        0.621200   \n",
       "max                  1.000000                        1.000000   \n",
       "std                  0.192556                        0.171850   \n",
       "\n",
       "       normalized_humidity  normalized_wind_speed  casual_users  \\\n",
       "count         17379.000000           17379.000000  17379.000000   \n",
       "mean              0.627980               0.190098     35.676218   \n",
       "min               0.080000               0.000000      0.000000   \n",
       "25%               0.480000               0.104500      4.000000   \n",
       "50%               0.630000               0.194000     17.000000   \n",
       "75%               0.780000               0.253700     48.000000   \n",
       "max               1.000000               0.850700    367.000000   \n",
       "std               0.191637               0.122340     49.305030   \n",
       "\n",
       "       registered_users  total_rentals  \n",
       "count      17379.000000   17379.000000  \n",
       "mean         153.786869     189.463088  \n",
       "min            0.000000       1.000000  \n",
       "25%           34.000000      40.000000  \n",
       "50%          115.000000     142.000000  \n",
       "75%          220.000000     281.000000  \n",
       "max          886.000000     977.000000  \n",
       "std          151.357286     181.387599  "
      ]
     },
     "execution_count": 61,
     "metadata": {},
     "output_type": "execute_result"
    }
   ],
   "source": [
    "hours_df.describe()"
   ]
  },
  {
   "cell_type": "markdown",
   "id": "0adb7d56-808b-4b61-87f7-bad962378545",
   "metadata": {},
   "source": [
    "<h4>Simpan data baru</h4>"
   ]
  },
  {
   "cell_type": "code",
   "execution_count": 62,
   "id": "3b5d1c87-78fc-4647-b3b2-fc23940f76f1",
   "metadata": {},
   "outputs": [],
   "source": [
    "days_df.to_csv(\"dashboard/days_processed.csv\", index=False)\n",
    "hours_df.to_csv(\"dashboard/hours_processed.csv\", index=False)"
   ]
  },
  {
   "cell_type": "markdown",
   "id": "867d548a-5375-4aee-8125-60af43c20972",
   "metadata": {},
   "source": [
    "<h2>Exploratory Data Analysis (EDA)</h2>"
   ]
  },
  {
   "cell_type": "markdown",
   "id": "859c343b-b522-41fc-a5ac-25ea526324ad",
   "metadata": {},
   "source": [
    "<h3>Explore \"days_df\"</h3>"
   ]
  },
  {
   "cell_type": "markdown",
   "id": "1842ce4b-bddd-4461-9bca-be272c440b04",
   "metadata": {},
   "source": [
    "<h4>Sampel</h4>"
   ]
  },
  {
   "cell_type": "code",
   "execution_count": 63,
   "id": "57dc00e3-788b-4f7b-9ce9-e9ad2e21b780",
   "metadata": {},
   "outputs": [
    {
     "data": {
      "text/html": [
       "<div>\n",
       "<style scoped>\n",
       "    .dataframe tbody tr th:only-of-type {\n",
       "        vertical-align: middle;\n",
       "    }\n",
       "\n",
       "    .dataframe tbody tr th {\n",
       "        vertical-align: top;\n",
       "    }\n",
       "\n",
       "    .dataframe thead th {\n",
       "        text-align: right;\n",
       "    }\n",
       "</style>\n",
       "<table border=\"1\" class=\"dataframe\">\n",
       "  <thead>\n",
       "    <tr style=\"text-align: right;\">\n",
       "      <th></th>\n",
       "      <th>record_id</th>\n",
       "      <th>date</th>\n",
       "      <th>season_code</th>\n",
       "      <th>year_code</th>\n",
       "      <th>month</th>\n",
       "      <th>holiday</th>\n",
       "      <th>weekday_code</th>\n",
       "      <th>workingday</th>\n",
       "      <th>weather_condition</th>\n",
       "      <th>normalized_temperature</th>\n",
       "      <th>normalized_feeling_temperature</th>\n",
       "      <th>normalized_humidity</th>\n",
       "      <th>normalized_wind_speed</th>\n",
       "      <th>casual_users</th>\n",
       "      <th>registered_users</th>\n",
       "      <th>total_rentals</th>\n",
       "    </tr>\n",
       "  </thead>\n",
       "  <tbody>\n",
       "    <tr>\n",
       "      <th>382</th>\n",
       "      <td>383</td>\n",
       "      <td>2012-01-18</td>\n",
       "      <td>1</td>\n",
       "      <td>1</td>\n",
       "      <td>1</td>\n",
       "      <td>False</td>\n",
       "      <td>3</td>\n",
       "      <td>True</td>\n",
       "      <td>1</td>\n",
       "      <td>0.303333</td>\n",
       "      <td>0.275254</td>\n",
       "      <td>0.443333</td>\n",
       "      <td>0.415429</td>\n",
       "      <td>109</td>\n",
       "      <td>3267</td>\n",
       "      <td>3376</td>\n",
       "    </tr>\n",
       "    <tr>\n",
       "      <th>71</th>\n",
       "      <td>72</td>\n",
       "      <td>2011-03-13</td>\n",
       "      <td>1</td>\n",
       "      <td>0</td>\n",
       "      <td>3</td>\n",
       "      <td>False</td>\n",
       "      <td>0</td>\n",
       "      <td>False</td>\n",
       "      <td>1</td>\n",
       "      <td>0.384348</td>\n",
       "      <td>0.380091</td>\n",
       "      <td>0.527391</td>\n",
       "      <td>0.270604</td>\n",
       "      <td>982</td>\n",
       "      <td>1435</td>\n",
       "      <td>2417</td>\n",
       "    </tr>\n",
       "    <tr>\n",
       "      <th>245</th>\n",
       "      <td>246</td>\n",
       "      <td>2011-09-03</td>\n",
       "      <td>3</td>\n",
       "      <td>0</td>\n",
       "      <td>9</td>\n",
       "      <td>False</td>\n",
       "      <td>6</td>\n",
       "      <td>False</td>\n",
       "      <td>1</td>\n",
       "      <td>0.669167</td>\n",
       "      <td>0.633213</td>\n",
       "      <td>0.716667</td>\n",
       "      <td>0.185325</td>\n",
       "      <td>1935</td>\n",
       "      <td>2549</td>\n",
       "      <td>4484</td>\n",
       "    </tr>\n",
       "    <tr>\n",
       "      <th>103</th>\n",
       "      <td>104</td>\n",
       "      <td>2011-04-14</td>\n",
       "      <td>2</td>\n",
       "      <td>0</td>\n",
       "      <td>4</td>\n",
       "      <td>False</td>\n",
       "      <td>4</td>\n",
       "      <td>True</td>\n",
       "      <td>1</td>\n",
       "      <td>0.467500</td>\n",
       "      <td>0.462742</td>\n",
       "      <td>0.540417</td>\n",
       "      <td>0.110700</td>\n",
       "      <td>529</td>\n",
       "      <td>2738</td>\n",
       "      <td>3267</td>\n",
       "    </tr>\n",
       "    <tr>\n",
       "      <th>169</th>\n",
       "      <td>170</td>\n",
       "      <td>2011-06-19</td>\n",
       "      <td>2</td>\n",
       "      <td>0</td>\n",
       "      <td>6</td>\n",
       "      <td>False</td>\n",
       "      <td>0</td>\n",
       "      <td>False</td>\n",
       "      <td>2</td>\n",
       "      <td>0.699167</td>\n",
       "      <td>0.645846</td>\n",
       "      <td>0.666667</td>\n",
       "      <td>0.102000</td>\n",
       "      <td>1639</td>\n",
       "      <td>3105</td>\n",
       "      <td>4744</td>\n",
       "    </tr>\n",
       "  </tbody>\n",
       "</table>\n",
       "</div>"
      ],
      "text/plain": [
       "     record_id       date season_code year_code month  holiday weekday_code  \\\n",
       "382        383 2012-01-18           1         1     1    False            3   \n",
       "71          72 2011-03-13           1         0     3    False            0   \n",
       "245        246 2011-09-03           3         0     9    False            6   \n",
       "103        104 2011-04-14           2         0     4    False            4   \n",
       "169        170 2011-06-19           2         0     6    False            0   \n",
       "\n",
       "     workingday weather_condition  normalized_temperature  \\\n",
       "382        True                 1                0.303333   \n",
       "71        False                 1                0.384348   \n",
       "245       False                 1                0.669167   \n",
       "103        True                 1                0.467500   \n",
       "169       False                 2                0.699167   \n",
       "\n",
       "     normalized_feeling_temperature  normalized_humidity  \\\n",
       "382                        0.275254             0.443333   \n",
       "71                         0.380091             0.527391   \n",
       "245                        0.633213             0.716667   \n",
       "103                        0.462742             0.540417   \n",
       "169                        0.645846             0.666667   \n",
       "\n",
       "     normalized_wind_speed  casual_users  registered_users  total_rentals  \n",
       "382               0.415429           109              3267           3376  \n",
       "71                0.270604           982              1435           2417  \n",
       "245               0.185325          1935              2549           4484  \n",
       "103               0.110700           529              2738           3267  \n",
       "169               0.102000          1639              3105           4744  "
      ]
     },
     "execution_count": 63,
     "metadata": {},
     "output_type": "execute_result"
    }
   ],
   "source": [
    "days_df.sample(5)"
   ]
  },
  {
   "cell_type": "markdown",
   "id": "a4860af1-80aa-4673-9abc-aaad898e9c5a",
   "metadata": {},
   "source": [
    "<h4>Informasi Dasar</h4>"
   ]
  },
  {
   "cell_type": "code",
   "execution_count": 64,
   "id": "25310830-b14d-4bb9-b3a6-11b3166b729b",
   "metadata": {},
   "outputs": [
    {
     "name": "stdout",
     "output_type": "stream",
     "text": [
      "<class 'pandas.core.frame.DataFrame'>\n",
      "RangeIndex: 731 entries, 0 to 730\n",
      "Data columns (total 16 columns):\n",
      " #   Column                          Non-Null Count  Dtype         \n",
      "---  ------                          --------------  -----         \n",
      " 0   record_id                       731 non-null    int64         \n",
      " 1   date                            731 non-null    datetime64[ns]\n",
      " 2   season_code                     731 non-null    category      \n",
      " 3   year_code                       731 non-null    category      \n",
      " 4   month                           731 non-null    category      \n",
      " 5   holiday                         731 non-null    bool          \n",
      " 6   weekday_code                    731 non-null    category      \n",
      " 7   workingday                      731 non-null    bool          \n",
      " 8   weather_condition               731 non-null    category      \n",
      " 9   normalized_temperature          731 non-null    float64       \n",
      " 10  normalized_feeling_temperature  731 non-null    float64       \n",
      " 11  normalized_humidity             731 non-null    float64       \n",
      " 12  normalized_wind_speed           731 non-null    float64       \n",
      " 13  casual_users                    731 non-null    int64         \n",
      " 14  registered_users                731 non-null    int64         \n",
      " 15  total_rentals                   731 non-null    int64         \n",
      "dtypes: bool(2), category(5), datetime64[ns](1), float64(4), int64(4)\n",
      "memory usage: 57.8 KB\n"
     ]
    }
   ],
   "source": [
    "days_df.info()"
   ]
  },
  {
   "cell_type": "code",
   "execution_count": 65,
   "id": "e70ea063-a21a-4749-b792-b7d85ce9a5e2",
   "metadata": {},
   "outputs": [
    {
     "data": {
      "text/html": [
       "<div>\n",
       "<style scoped>\n",
       "    .dataframe tbody tr th:only-of-type {\n",
       "        vertical-align: middle;\n",
       "    }\n",
       "\n",
       "    .dataframe tbody tr th {\n",
       "        vertical-align: top;\n",
       "    }\n",
       "\n",
       "    .dataframe thead th {\n",
       "        text-align: right;\n",
       "    }\n",
       "</style>\n",
       "<table border=\"1\" class=\"dataframe\">\n",
       "  <thead>\n",
       "    <tr style=\"text-align: right;\">\n",
       "      <th></th>\n",
       "      <th>record_id</th>\n",
       "      <th>date</th>\n",
       "      <th>season_code</th>\n",
       "      <th>year_code</th>\n",
       "      <th>month</th>\n",
       "      <th>holiday</th>\n",
       "      <th>weekday_code</th>\n",
       "      <th>workingday</th>\n",
       "      <th>weather_condition</th>\n",
       "      <th>normalized_temperature</th>\n",
       "      <th>normalized_feeling_temperature</th>\n",
       "      <th>normalized_humidity</th>\n",
       "      <th>normalized_wind_speed</th>\n",
       "      <th>casual_users</th>\n",
       "      <th>registered_users</th>\n",
       "      <th>total_rentals</th>\n",
       "    </tr>\n",
       "  </thead>\n",
       "  <tbody>\n",
       "    <tr>\n",
       "      <th>count</th>\n",
       "      <td>731.000000</td>\n",
       "      <td>731</td>\n",
       "      <td>731.0</td>\n",
       "      <td>731.0</td>\n",
       "      <td>731.0</td>\n",
       "      <td>731</td>\n",
       "      <td>731.0</td>\n",
       "      <td>731</td>\n",
       "      <td>731.0</td>\n",
       "      <td>731.000000</td>\n",
       "      <td>731.000000</td>\n",
       "      <td>731.000000</td>\n",
       "      <td>731.000000</td>\n",
       "      <td>731.000000</td>\n",
       "      <td>731.000000</td>\n",
       "      <td>731.000000</td>\n",
       "    </tr>\n",
       "    <tr>\n",
       "      <th>unique</th>\n",
       "      <td>NaN</td>\n",
       "      <td>NaN</td>\n",
       "      <td>4.0</td>\n",
       "      <td>2.0</td>\n",
       "      <td>12.0</td>\n",
       "      <td>2</td>\n",
       "      <td>7.0</td>\n",
       "      <td>2</td>\n",
       "      <td>3.0</td>\n",
       "      <td>NaN</td>\n",
       "      <td>NaN</td>\n",
       "      <td>NaN</td>\n",
       "      <td>NaN</td>\n",
       "      <td>NaN</td>\n",
       "      <td>NaN</td>\n",
       "      <td>NaN</td>\n",
       "    </tr>\n",
       "    <tr>\n",
       "      <th>top</th>\n",
       "      <td>NaN</td>\n",
       "      <td>NaN</td>\n",
       "      <td>3.0</td>\n",
       "      <td>1.0</td>\n",
       "      <td>1.0</td>\n",
       "      <td>False</td>\n",
       "      <td>0.0</td>\n",
       "      <td>True</td>\n",
       "      <td>1.0</td>\n",
       "      <td>NaN</td>\n",
       "      <td>NaN</td>\n",
       "      <td>NaN</td>\n",
       "      <td>NaN</td>\n",
       "      <td>NaN</td>\n",
       "      <td>NaN</td>\n",
       "      <td>NaN</td>\n",
       "    </tr>\n",
       "    <tr>\n",
       "      <th>freq</th>\n",
       "      <td>NaN</td>\n",
       "      <td>NaN</td>\n",
       "      <td>188.0</td>\n",
       "      <td>366.0</td>\n",
       "      <td>62.0</td>\n",
       "      <td>710</td>\n",
       "      <td>105.0</td>\n",
       "      <td>500</td>\n",
       "      <td>463.0</td>\n",
       "      <td>NaN</td>\n",
       "      <td>NaN</td>\n",
       "      <td>NaN</td>\n",
       "      <td>NaN</td>\n",
       "      <td>NaN</td>\n",
       "      <td>NaN</td>\n",
       "      <td>NaN</td>\n",
       "    </tr>\n",
       "    <tr>\n",
       "      <th>mean</th>\n",
       "      <td>366.000000</td>\n",
       "      <td>2012-01-01 00:00:00</td>\n",
       "      <td>NaN</td>\n",
       "      <td>NaN</td>\n",
       "      <td>NaN</td>\n",
       "      <td>NaN</td>\n",
       "      <td>NaN</td>\n",
       "      <td>NaN</td>\n",
       "      <td>NaN</td>\n",
       "      <td>0.495385</td>\n",
       "      <td>0.474354</td>\n",
       "      <td>0.628699</td>\n",
       "      <td>0.190486</td>\n",
       "      <td>848.176471</td>\n",
       "      <td>3656.172367</td>\n",
       "      <td>4504.348837</td>\n",
       "    </tr>\n",
       "    <tr>\n",
       "      <th>min</th>\n",
       "      <td>1.000000</td>\n",
       "      <td>2011-01-01 00:00:00</td>\n",
       "      <td>NaN</td>\n",
       "      <td>NaN</td>\n",
       "      <td>NaN</td>\n",
       "      <td>NaN</td>\n",
       "      <td>NaN</td>\n",
       "      <td>NaN</td>\n",
       "      <td>NaN</td>\n",
       "      <td>0.059130</td>\n",
       "      <td>0.079070</td>\n",
       "      <td>0.187917</td>\n",
       "      <td>0.022392</td>\n",
       "      <td>2.000000</td>\n",
       "      <td>20.000000</td>\n",
       "      <td>22.000000</td>\n",
       "    </tr>\n",
       "    <tr>\n",
       "      <th>25%</th>\n",
       "      <td>183.500000</td>\n",
       "      <td>2011-07-02 12:00:00</td>\n",
       "      <td>NaN</td>\n",
       "      <td>NaN</td>\n",
       "      <td>NaN</td>\n",
       "      <td>NaN</td>\n",
       "      <td>NaN</td>\n",
       "      <td>NaN</td>\n",
       "      <td>NaN</td>\n",
       "      <td>0.337083</td>\n",
       "      <td>0.337842</td>\n",
       "      <td>0.521041</td>\n",
       "      <td>0.134950</td>\n",
       "      <td>315.500000</td>\n",
       "      <td>2497.000000</td>\n",
       "      <td>3152.000000</td>\n",
       "    </tr>\n",
       "    <tr>\n",
       "      <th>50%</th>\n",
       "      <td>366.000000</td>\n",
       "      <td>2012-01-01 00:00:00</td>\n",
       "      <td>NaN</td>\n",
       "      <td>NaN</td>\n",
       "      <td>NaN</td>\n",
       "      <td>NaN</td>\n",
       "      <td>NaN</td>\n",
       "      <td>NaN</td>\n",
       "      <td>NaN</td>\n",
       "      <td>0.498333</td>\n",
       "      <td>0.486733</td>\n",
       "      <td>0.626667</td>\n",
       "      <td>0.180975</td>\n",
       "      <td>713.000000</td>\n",
       "      <td>3662.000000</td>\n",
       "      <td>4548.000000</td>\n",
       "    </tr>\n",
       "    <tr>\n",
       "      <th>75%</th>\n",
       "      <td>548.500000</td>\n",
       "      <td>2012-07-01 12:00:00</td>\n",
       "      <td>NaN</td>\n",
       "      <td>NaN</td>\n",
       "      <td>NaN</td>\n",
       "      <td>NaN</td>\n",
       "      <td>NaN</td>\n",
       "      <td>NaN</td>\n",
       "      <td>NaN</td>\n",
       "      <td>0.655417</td>\n",
       "      <td>0.608602</td>\n",
       "      <td>0.730209</td>\n",
       "      <td>0.233214</td>\n",
       "      <td>1096.000000</td>\n",
       "      <td>4776.500000</td>\n",
       "      <td>5956.000000</td>\n",
       "    </tr>\n",
       "    <tr>\n",
       "      <th>max</th>\n",
       "      <td>731.000000</td>\n",
       "      <td>2012-12-31 00:00:00</td>\n",
       "      <td>NaN</td>\n",
       "      <td>NaN</td>\n",
       "      <td>NaN</td>\n",
       "      <td>NaN</td>\n",
       "      <td>NaN</td>\n",
       "      <td>NaN</td>\n",
       "      <td>NaN</td>\n",
       "      <td>0.861667</td>\n",
       "      <td>0.840896</td>\n",
       "      <td>0.972500</td>\n",
       "      <td>0.507463</td>\n",
       "      <td>3410.000000</td>\n",
       "      <td>6946.000000</td>\n",
       "      <td>8714.000000</td>\n",
       "    </tr>\n",
       "    <tr>\n",
       "      <th>std</th>\n",
       "      <td>211.165812</td>\n",
       "      <td>NaN</td>\n",
       "      <td>NaN</td>\n",
       "      <td>NaN</td>\n",
       "      <td>NaN</td>\n",
       "      <td>NaN</td>\n",
       "      <td>NaN</td>\n",
       "      <td>NaN</td>\n",
       "      <td>NaN</td>\n",
       "      <td>0.183051</td>\n",
       "      <td>0.162961</td>\n",
       "      <td>0.140526</td>\n",
       "      <td>0.077498</td>\n",
       "      <td>686.622488</td>\n",
       "      <td>1560.256377</td>\n",
       "      <td>1937.211452</td>\n",
       "    </tr>\n",
       "  </tbody>\n",
       "</table>\n",
       "</div>"
      ],
      "text/plain": [
       "         record_id                 date  season_code  year_code  month  \\\n",
       "count   731.000000                  731        731.0      731.0  731.0   \n",
       "unique         NaN                  NaN          4.0        2.0   12.0   \n",
       "top            NaN                  NaN          3.0        1.0    1.0   \n",
       "freq           NaN                  NaN        188.0      366.0   62.0   \n",
       "mean    366.000000  2012-01-01 00:00:00          NaN        NaN    NaN   \n",
       "min       1.000000  2011-01-01 00:00:00          NaN        NaN    NaN   \n",
       "25%     183.500000  2011-07-02 12:00:00          NaN        NaN    NaN   \n",
       "50%     366.000000  2012-01-01 00:00:00          NaN        NaN    NaN   \n",
       "75%     548.500000  2012-07-01 12:00:00          NaN        NaN    NaN   \n",
       "max     731.000000  2012-12-31 00:00:00          NaN        NaN    NaN   \n",
       "std     211.165812                  NaN          NaN        NaN    NaN   \n",
       "\n",
       "       holiday  weekday_code workingday  weather_condition  \\\n",
       "count      731         731.0        731              731.0   \n",
       "unique       2           7.0          2                3.0   \n",
       "top      False           0.0       True                1.0   \n",
       "freq       710         105.0        500              463.0   \n",
       "mean       NaN           NaN        NaN                NaN   \n",
       "min        NaN           NaN        NaN                NaN   \n",
       "25%        NaN           NaN        NaN                NaN   \n",
       "50%        NaN           NaN        NaN                NaN   \n",
       "75%        NaN           NaN        NaN                NaN   \n",
       "max        NaN           NaN        NaN                NaN   \n",
       "std        NaN           NaN        NaN                NaN   \n",
       "\n",
       "        normalized_temperature  normalized_feeling_temperature  \\\n",
       "count               731.000000                      731.000000   \n",
       "unique                     NaN                             NaN   \n",
       "top                        NaN                             NaN   \n",
       "freq                       NaN                             NaN   \n",
       "mean                  0.495385                        0.474354   \n",
       "min                   0.059130                        0.079070   \n",
       "25%                   0.337083                        0.337842   \n",
       "50%                   0.498333                        0.486733   \n",
       "75%                   0.655417                        0.608602   \n",
       "max                   0.861667                        0.840896   \n",
       "std                   0.183051                        0.162961   \n",
       "\n",
       "        normalized_humidity  normalized_wind_speed  casual_users  \\\n",
       "count            731.000000             731.000000    731.000000   \n",
       "unique                  NaN                    NaN           NaN   \n",
       "top                     NaN                    NaN           NaN   \n",
       "freq                    NaN                    NaN           NaN   \n",
       "mean               0.628699               0.190486    848.176471   \n",
       "min                0.187917               0.022392      2.000000   \n",
       "25%                0.521041               0.134950    315.500000   \n",
       "50%                0.626667               0.180975    713.000000   \n",
       "75%                0.730209               0.233214   1096.000000   \n",
       "max                0.972500               0.507463   3410.000000   \n",
       "std                0.140526               0.077498    686.622488   \n",
       "\n",
       "        registered_users  total_rentals  \n",
       "count         731.000000     731.000000  \n",
       "unique               NaN            NaN  \n",
       "top                  NaN            NaN  \n",
       "freq                 NaN            NaN  \n",
       "mean         3656.172367    4504.348837  \n",
       "min            20.000000      22.000000  \n",
       "25%          2497.000000    3152.000000  \n",
       "50%          3662.000000    4548.000000  \n",
       "75%          4776.500000    5956.000000  \n",
       "max          6946.000000    8714.000000  \n",
       "std          1560.256377    1937.211452  "
      ]
     },
     "execution_count": 65,
     "metadata": {},
     "output_type": "execute_result"
    }
   ],
   "source": [
    "days_df.describe(include=\"all\")"
   ]
  },
  {
   "cell_type": "markdown",
   "id": "a9373986-4e9e-41a7-ae34-b3ffd8c7da4b",
   "metadata": {},
   "source": [
    "<h4>Explore Variabel Kunci</h4>"
   ]
  },
  {
   "cell_type": "markdown",
   "id": "75c51bc2-b1e7-451e-a410-7a2a5f1131cd",
   "metadata": {},
   "source": [
    "<h5>Distribusi Total Penyewa harian \"total_rentals\"</h5>"
   ]
  },
  {
   "cell_type": "code",
   "execution_count": 67,
   "id": "9f337d6f-332d-443c-9c4c-f2bfea570e65",
   "metadata": {},
   "outputs": [
    {
     "ename": "TypeError",
     "evalue": "Axes.bxp() got an unexpected keyword argument 'kde'",
     "output_type": "error",
     "traceback": [
      "\u001b[1;31m---------------------------------------------------------------------------\u001b[0m",
      "\u001b[1;31mTypeError\u001b[0m                                 Traceback (most recent call last)",
      "Cell \u001b[1;32mIn[67], line 2\u001b[0m\n\u001b[0;32m      1\u001b[0m plt\u001b[38;5;241m.\u001b[39mfigure(figsize\u001b[38;5;241m=\u001b[39m(\u001b[38;5;241m8\u001b[39m,\u001b[38;5;241m5\u001b[39m))\n\u001b[1;32m----> 2\u001b[0m \u001b[43msns\u001b[49m\u001b[38;5;241;43m.\u001b[39;49m\u001b[43mboxplot\u001b[49m\u001b[43m(\u001b[49m\u001b[43mdays_df\u001b[49m\u001b[43m[\u001b[49m\u001b[38;5;124;43m\"\u001b[39;49m\u001b[38;5;124;43mtotal_rentals\u001b[39;49m\u001b[38;5;124;43m\"\u001b[39;49m\u001b[43m]\u001b[49m\u001b[43m,\u001b[49m\u001b[43m \u001b[49m\u001b[43mkde\u001b[49m\u001b[38;5;241;43m=\u001b[39;49m\u001b[38;5;28;43;01mTrue\u001b[39;49;00m\u001b[43m)\u001b[49m\n\u001b[0;32m      3\u001b[0m plt\u001b[38;5;241m.\u001b[39mtitle(\u001b[38;5;124m\"\u001b[39m\u001b[38;5;124mDistribusi Total Penyewaan Harian\u001b[39m\u001b[38;5;124m\"\u001b[39m)\n\u001b[0;32m      4\u001b[0m plt\u001b[38;5;241m.\u001b[39mxlabel(\u001b[38;5;124m\"\u001b[39m\u001b[38;5;124mTotal Penyewaan\u001b[39m\u001b[38;5;124m\"\u001b[39m)\n",
      "File \u001b[1;32m~\\PycharmProjects\\data_analyst-1-dbs\\.venv\\Lib\\site-packages\\seaborn\\categorical.py:1634\u001b[0m, in \u001b[0;36mboxplot\u001b[1;34m(data, x, y, hue, order, hue_order, orient, color, palette, saturation, fill, dodge, width, gap, whis, linecolor, linewidth, fliersize, hue_norm, native_scale, log_scale, formatter, legend, ax, **kwargs)\u001b[0m\n\u001b[0;32m   1627\u001b[0m color \u001b[38;5;241m=\u001b[39m _default_color(\n\u001b[0;32m   1628\u001b[0m     ax\u001b[38;5;241m.\u001b[39mfill_between, hue, color,\n\u001b[0;32m   1629\u001b[0m     {k: v \u001b[38;5;28;01mfor\u001b[39;00m k, v \u001b[38;5;129;01min\u001b[39;00m kwargs\u001b[38;5;241m.\u001b[39mitems() \u001b[38;5;28;01mif\u001b[39;00m k \u001b[38;5;129;01min\u001b[39;00m [\u001b[38;5;124m\"\u001b[39m\u001b[38;5;124mc\u001b[39m\u001b[38;5;124m\"\u001b[39m, \u001b[38;5;124m\"\u001b[39m\u001b[38;5;124mcolor\u001b[39m\u001b[38;5;124m\"\u001b[39m, \u001b[38;5;124m\"\u001b[39m\u001b[38;5;124mfc\u001b[39m\u001b[38;5;124m\"\u001b[39m, \u001b[38;5;124m\"\u001b[39m\u001b[38;5;124mfacecolor\u001b[39m\u001b[38;5;124m\"\u001b[39m]},\n\u001b[0;32m   1630\u001b[0m     saturation\u001b[38;5;241m=\u001b[39msaturation,\n\u001b[0;32m   1631\u001b[0m )\n\u001b[0;32m   1632\u001b[0m linecolor \u001b[38;5;241m=\u001b[39m p\u001b[38;5;241m.\u001b[39m_complement_color(linecolor, color, p\u001b[38;5;241m.\u001b[39m_hue_map)\n\u001b[1;32m-> 1634\u001b[0m \u001b[43mp\u001b[49m\u001b[38;5;241;43m.\u001b[39;49m\u001b[43mplot_boxes\u001b[49m\u001b[43m(\u001b[49m\n\u001b[0;32m   1635\u001b[0m \u001b[43m    \u001b[49m\u001b[43mwidth\u001b[49m\u001b[38;5;241;43m=\u001b[39;49m\u001b[43mwidth\u001b[49m\u001b[43m,\u001b[49m\n\u001b[0;32m   1636\u001b[0m \u001b[43m    \u001b[49m\u001b[43mdodge\u001b[49m\u001b[38;5;241;43m=\u001b[39;49m\u001b[43mdodge\u001b[49m\u001b[43m,\u001b[49m\n\u001b[0;32m   1637\u001b[0m \u001b[43m    \u001b[49m\u001b[43mgap\u001b[49m\u001b[38;5;241;43m=\u001b[39;49m\u001b[43mgap\u001b[49m\u001b[43m,\u001b[49m\n\u001b[0;32m   1638\u001b[0m \u001b[43m    \u001b[49m\u001b[43mfill\u001b[49m\u001b[38;5;241;43m=\u001b[39;49m\u001b[43mfill\u001b[49m\u001b[43m,\u001b[49m\n\u001b[0;32m   1639\u001b[0m \u001b[43m    \u001b[49m\u001b[43mwhis\u001b[49m\u001b[38;5;241;43m=\u001b[39;49m\u001b[43mwhis\u001b[49m\u001b[43m,\u001b[49m\n\u001b[0;32m   1640\u001b[0m \u001b[43m    \u001b[49m\u001b[43mcolor\u001b[49m\u001b[38;5;241;43m=\u001b[39;49m\u001b[43mcolor\u001b[49m\u001b[43m,\u001b[49m\n\u001b[0;32m   1641\u001b[0m \u001b[43m    \u001b[49m\u001b[43mlinecolor\u001b[49m\u001b[38;5;241;43m=\u001b[39;49m\u001b[43mlinecolor\u001b[49m\u001b[43m,\u001b[49m\n\u001b[0;32m   1642\u001b[0m \u001b[43m    \u001b[49m\u001b[43mlinewidth\u001b[49m\u001b[38;5;241;43m=\u001b[39;49m\u001b[43mlinewidth\u001b[49m\u001b[43m,\u001b[49m\n\u001b[0;32m   1643\u001b[0m \u001b[43m    \u001b[49m\u001b[43mfliersize\u001b[49m\u001b[38;5;241;43m=\u001b[39;49m\u001b[43mfliersize\u001b[49m\u001b[43m,\u001b[49m\n\u001b[0;32m   1644\u001b[0m \u001b[43m    \u001b[49m\u001b[43mplot_kws\u001b[49m\u001b[38;5;241;43m=\u001b[39;49m\u001b[43mkwargs\u001b[49m\u001b[43m,\u001b[49m\n\u001b[0;32m   1645\u001b[0m \u001b[43m\u001b[49m\u001b[43m)\u001b[49m\n\u001b[0;32m   1647\u001b[0m p\u001b[38;5;241m.\u001b[39m_add_axis_labels(ax)\n\u001b[0;32m   1648\u001b[0m p\u001b[38;5;241m.\u001b[39m_adjust_cat_axis(ax, axis\u001b[38;5;241m=\u001b[39mp\u001b[38;5;241m.\u001b[39morient)\n",
      "File \u001b[1;32m~\\PycharmProjects\\data_analyst-1-dbs\\.venv\\Lib\\site-packages\\seaborn\\categorical.py:700\u001b[0m, in \u001b[0;36m_CategoricalPlotter.plot_boxes\u001b[1;34m(self, width, dodge, gap, fill, whis, color, linecolor, linewidth, fliersize, plot_kws)\u001b[0m\n\u001b[0;32m    679\u001b[0m default_kws \u001b[38;5;241m=\u001b[39m \u001b[38;5;28mdict\u001b[39m(\n\u001b[0;32m    680\u001b[0m     bxpstats\u001b[38;5;241m=\u001b[39mstats\u001b[38;5;241m.\u001b[39mto_dict(\u001b[38;5;124m\"\u001b[39m\u001b[38;5;124mrecords\u001b[39m\u001b[38;5;124m\"\u001b[39m),\n\u001b[0;32m    681\u001b[0m     positions\u001b[38;5;241m=\u001b[39mdata[\u001b[38;5;28mself\u001b[39m\u001b[38;5;241m.\u001b[39morient],\n\u001b[1;32m   (...)\u001b[0m\n\u001b[0;32m    697\u001b[0m     )\n\u001b[0;32m    698\u001b[0m )\n\u001b[0;32m    699\u001b[0m boxplot_kws \u001b[38;5;241m=\u001b[39m {\u001b[38;5;241m*\u001b[39m\u001b[38;5;241m*\u001b[39mdefault_kws, \u001b[38;5;241m*\u001b[39m\u001b[38;5;241m*\u001b[39mplot_kws}\n\u001b[1;32m--> 700\u001b[0m artists \u001b[38;5;241m=\u001b[39m \u001b[43max\u001b[49m\u001b[38;5;241;43m.\u001b[39;49m\u001b[43mbxp\u001b[49m\u001b[43m(\u001b[49m\u001b[38;5;241;43m*\u001b[39;49m\u001b[38;5;241;43m*\u001b[39;49m\u001b[43mboxplot_kws\u001b[49m\u001b[43m)\u001b[49m\n\u001b[0;32m    702\u001b[0m \u001b[38;5;66;03m# Reset artist widths after adding so everything stays positive\u001b[39;00m\n\u001b[0;32m    703\u001b[0m ori_idx \u001b[38;5;241m=\u001b[39m [\u001b[38;5;124m\"\u001b[39m\u001b[38;5;124mx\u001b[39m\u001b[38;5;124m\"\u001b[39m, \u001b[38;5;124m\"\u001b[39m\u001b[38;5;124my\u001b[39m\u001b[38;5;124m\"\u001b[39m]\u001b[38;5;241m.\u001b[39mindex(\u001b[38;5;28mself\u001b[39m\u001b[38;5;241m.\u001b[39morient)\n",
      "File \u001b[1;32m~\\PycharmProjects\\data_analyst-1-dbs\\.venv\\Lib\\site-packages\\matplotlib\\_api\\deprecation.py:453\u001b[0m, in \u001b[0;36mmake_keyword_only.<locals>.wrapper\u001b[1;34m(*args, **kwargs)\u001b[0m\n\u001b[0;32m    447\u001b[0m \u001b[38;5;28;01mif\u001b[39;00m \u001b[38;5;28mlen\u001b[39m(args) \u001b[38;5;241m>\u001b[39m name_idx:\n\u001b[0;32m    448\u001b[0m     warn_deprecated(\n\u001b[0;32m    449\u001b[0m         since, message\u001b[38;5;241m=\u001b[39m\u001b[38;5;124m\"\u001b[39m\u001b[38;5;124mPassing the \u001b[39m\u001b[38;5;132;01m%(name)s\u001b[39;00m\u001b[38;5;124m \u001b[39m\u001b[38;5;132;01m%(obj_type)s\u001b[39;00m\u001b[38;5;124m \u001b[39m\u001b[38;5;124m\"\u001b[39m\n\u001b[0;32m    450\u001b[0m         \u001b[38;5;124m\"\u001b[39m\u001b[38;5;124mpositionally is deprecated since Matplotlib \u001b[39m\u001b[38;5;132;01m%(since)s\u001b[39;00m\u001b[38;5;124m; the \u001b[39m\u001b[38;5;124m\"\u001b[39m\n\u001b[0;32m    451\u001b[0m         \u001b[38;5;124m\"\u001b[39m\u001b[38;5;124mparameter will become keyword-only in \u001b[39m\u001b[38;5;132;01m%(removal)s\u001b[39;00m\u001b[38;5;124m.\u001b[39m\u001b[38;5;124m\"\u001b[39m,\n\u001b[0;32m    452\u001b[0m         name\u001b[38;5;241m=\u001b[39mname, obj_type\u001b[38;5;241m=\u001b[39m\u001b[38;5;124mf\u001b[39m\u001b[38;5;124m\"\u001b[39m\u001b[38;5;124mparameter of \u001b[39m\u001b[38;5;132;01m{\u001b[39;00mfunc\u001b[38;5;241m.\u001b[39m\u001b[38;5;18m__name__\u001b[39m\u001b[38;5;132;01m}\u001b[39;00m\u001b[38;5;124m()\u001b[39m\u001b[38;5;124m\"\u001b[39m)\n\u001b[1;32m--> 453\u001b[0m \u001b[38;5;28;01mreturn\u001b[39;00m \u001b[43mfunc\u001b[49m\u001b[43m(\u001b[49m\u001b[38;5;241;43m*\u001b[39;49m\u001b[43margs\u001b[49m\u001b[43m,\u001b[49m\u001b[43m \u001b[49m\u001b[38;5;241;43m*\u001b[39;49m\u001b[38;5;241;43m*\u001b[39;49m\u001b[43mkwargs\u001b[49m\u001b[43m)\u001b[49m\n",
      "\u001b[1;31mTypeError\u001b[0m: Axes.bxp() got an unexpected keyword argument 'kde'"
     ]
    },
    {
     "data": {
      "image/png": "[encoded data removed]",
      "text/plain": [
       "<Figure size 800x500 with 1 Axes>"
      ]
     },
     "metadata": {},
     "output_type": "display_data"
    }
   ],
   "source": [
    "plt.figure(figsize=(8,5))\n",
    "sns.boxplot(days_df[\"total_rentals\"], kde=True)\n",
    "plt.title(\"Distribusi Total Penyewaan Harian\")\n",
    "plt.xlabel(\"Total Penyewaan\")\n",
    "plt.ylabel(\"Frekuensi\")\n",
    "plt.show()"
   ]
  },
  {
   "cell_type": "markdown",
   "id": "72b2bd69-9fec-452a-a0bb-ab142b3b05fd",
   "metadata": {},
   "source": [
    "<h5>Frekuensi Variabel Kategorikal (\"season_code\", \"month\", \"holiday\" & \"workingday\")</h5>"
   ]
  },
  {
   "cell_type": "code",
   "execution_count": null,
   "id": "c49b71fc-a4d2-4eb6-94f7-5aae87dab5d5",
   "metadata": {},
   "outputs": [],
   "source": [
    "print(\"Frekuensi season_code:\")\n",
    "print(days_df[\"season_code\"].value_counts())\n",
    "\n",
    "print(\"\\nFrekuensi bulan:\")\n",
    "print(days_df[\"month\"].value_counts())\n",
    "\n",
    "print(\"\\nFrekuensi hari libur:\")\n",
    "print(days_df[\"holiday\"].value_counts())\n",
    "\n",
    "print(\"\\nFrekuensi workingday:\")\n",
    "print(days_df[\"workingday\"].value_counts())"
   ]
  },
  {
   "cell_type": "markdown",
   "id": "c451a51f-1bf7-442e-83e0-71ff4fa6b59d",
   "metadata": {},
   "source": [
    "<h3>Explore \"hours_df\"</h3>"
   ]
  },
  {
   "cell_type": "markdown",
   "id": "54361651-850a-48c5-adb0-4f174bf8092f",
   "metadata": {},
   "source": [
    "<h4>Sampel</h4>"
   ]
  },
  {
   "cell_type": "code",
   "execution_count": null,
   "id": "5d3a25c3-4c32-406d-ad07-64ad2074e535",
   "metadata": {},
   "outputs": [],
   "source": [
    "hours_df.sample(5)"
   ]
  },
  {
   "cell_type": "markdown",
   "id": "87303cb4-5cd7-4020-8c7d-3e95d4771a16",
   "metadata": {
    "jp-MarkdownHeadingCollapsed": true
   },
   "source": [
    "<h4>Informasi Dasar</h4>"
   ]
  },
  {
   "cell_type": "code",
   "execution_count": null,
   "id": "c66c6312-6eec-4193-991a-a5f0f845e271",
   "metadata": {},
   "outputs": [],
   "source": [
    "hours_df.info()"
   ]
  },
  {
   "cell_type": "code",
   "execution_count": null,
   "id": "62f3c4bb-1f02-4e3d-b13e-cf58a06f809a",
   "metadata": {},
   "outputs": [],
   "source": [
    "hours_df.describe(include=\"all\")"
   ]
  },
  {
   "cell_type": "markdown",
   "id": "18ce6cb7-5c40-4daf-9860-0be82b7afe03",
   "metadata": {},
   "source": [
    "<h4>Explore Variabel Kunci</h4>"
   ]
  },
  {
   "cell_type": "markdown",
   "id": "1688cf71-90bb-4a51-85ec-8257b6f14bab",
   "metadata": {},
   "source": [
    "<h5>Distribusi Total Penyewaan Per Jam \"total_rentals\"</h5>"
   ]
  },
  {
   "cell_type": "code",
   "execution_count": null,
   "id": "9b0b1da7-929f-45f9-81b1-0214fe36ffb6",
   "metadata": {},
   "outputs": [],
   "source": [
    "plt.figure(figsize=(8,5))\n",
    "sns.histplot(hours_df[\"total_rentals\"], bins=30, kde=True)\n",
    "plt.title(\"Distribusi Total Penyewaan Per Jam\")\n",
    "plt.xlabel(\"Total Penyewaan\")\n",
    "plt.ylabel(\"Frekuensi\")\n",
    "plt.show()"
   ]
  },
  {
   "cell_type": "markdown",
   "id": "d72ae810-1b42-4bc2-9317-d6a0e9b65923",
   "metadata": {},
   "source": [
    "<h5>Distribusi Jam dalam Dataset</h5>"
   ]
  },
  {
   "cell_type": "code",
   "execution_count": null,
   "id": "8cd5c1ba-562b-4cff-9cff-64c881eef541",
   "metadata": {},
   "outputs": [],
   "source": [
    "print(\"Distribusi jam (dari 0 s/d 23):\")\n",
    "print(hours_df[\"hour\"].value_counts().sort_index())"
   ]
  },
  {
   "cell_type": "markdown",
   "id": "7fca3ad7-d9c7-42fd-b3c0-8524d03608d8",
   "metadata": {},
   "source": [
    "<h2>Visualization & Explanatory Analysis</h2>"
   ]
  },
  {
   "cell_type": "markdown",
   "id": "8bc5914c-1abe-434d-8d18-7d966dd58446",
   "metadata": {},
   "source": [
    "<h3>Visualisasi & Penjelasan untuk Days Dataset</h3>"
   ]
  },
  {
   "cell_type": "markdown",
   "id": "aa9b94e9-888f-4542-9d1d-f68767d5efc9",
   "metadata": {},
   "source": [
    "<h4>Pertanyaan 1: Bagaimana pola penyewaan sepeda berubah berdasarkan musim, bulan, dan kondisi cuaca?</h4>"
   ]
  },
  {
   "cell_type": "markdown",
   "id": "6f31a618-eaeb-4283-af39-e434de78b8e5",
   "metadata": {},
   "source": [
    "<h5>Boxplot Penyewaan Berdasarkan Musim</h5>"
   ]
  },
  {
   "cell_type": "code",
   "execution_count": null,
   "id": "467f3f45-a006-41d5-aa21-49bf5775a135",
   "metadata": {},
   "outputs": [],
   "source": [
    "season_labels = {\n",
    "    1: \"Spring\",\n",
    "    2: \"Summer\",\n",
    "    3: \"Fall\", \n",
    "    4: \"Winter\"\n",
    "}\n",
    "days_df[\"season\"] = days_df[\"season_code\"].map(season_labels).astype(\"category\")\n",
    "season_palette = {\n",
    "    \"Spring\": \"#2ecc71\",\n",
    "    \"Summer\": \"#e74c3c\",\n",
    "    \"Fall\": \"#e67e22\",\n",
    "    \"Winter\": \"#3498db\"\n",
    "}\n",
    "\n",
    "plt.figure(figsize=(12,7))\n",
    "sns.boxplot(\n",
    "    data=days_df,\n",
    "    x=\"season\",\n",
    "    y=\"total_rentals\",\n",
    "    hue=\"season\",\n",
    "    palette=season_palette,\n",
    "    order=[\"Spring\", \"Summer\", \"Fall\", \"Winter\"],\n",
    "    dodge=False,\n",
    "    legend=False \n",
    ")\n",
    "plt.title(\"Distribusi Penyewaan Harian Berdasarkan Musim\", fontsize=14, pad=20)\n",
    "plt.xlabel(\"Musim\", fontsize=12)\n",
    "plt.ylabel(\"Total Penyewaan\", fontsize=12)\n",
    "plt.xticks(fontsize=10)\n",
    "plt.grid(axis='y', linestyle='--', alpha=0.7)\n",
    "plt.show()"
   ]
  },
  {
   "cell_type": "markdown",
   "id": "16ff5523-1cdf-486b-b5e7-ea3342aedabc",
   "metadata": {},
   "source": [
    "<p><strong>Insight:</strong></p>\n",
    "<ul>\n",
    "    <li>\n",
    "        Musim panas (Summer) dan musim gugur (Fall) memiliki median penyewaan tertinggi, menunjukkan peningkatan aktivitas bersepeda saat cuaca hangat.\n",
    "    </li>\n",
    "    <li>\n",
    "        Outlier di musim dingin (Winter) menunjukkan hari-hari tertentu dengan penyewaan tinggi meski cuaca buruk, mungkin karena event khusus.\n",
    "    </li>\n",
    "    <li>\n",
    "        Variasi terbesar terjadi di musim semi (Spring), mengindikasikan ketidakpastian cuaca mempengaruhi minat penyewaan.\n",
    "    </li>\n",
    "</ul>"
   ]
  },
  {
   "cell_type": "markdown",
   "id": "219cbee6-aefb-475f-86e4-ecc01d95d350",
   "metadata": {
    "jp-MarkdownHeadingCollapsed": true
   },
   "source": [
    "<h5>Lineplot Tren Penyewaan Per Bulan</h5>"
   ]
  },
  {
   "cell_type": "code",
   "execution_count": null,
   "id": "3b2d5038-d21f-476c-964e-0737fc9a5213",
   "metadata": {},
   "outputs": [],
   "source": [
    "days_df[\"month_name\"] = days_df[\"date\"].dt.month_name().str[:3]\n",
    "\n",
    "plt.figure(figsize=(14,7))\n",
    "sns.lineplot(\n",
    "    data=days_df,\n",
    "    x=\"month_name\",\n",
    "    y=\"total_rentals\",\n",
    "    hue=\"year_code\",\n",
    "    palette={0: \"#9b59b6\", 1: \"#f1c40f\"},\n",
    "    marker=\"o\",\n",
    "    markersize=8,\n",
    "    linewidth=2,\n",
    "    errorbar=None\n",
    ")\n",
    "plt.title(\"Tren Rata-rata Penyewaan Sepeda per Bulan (2011 vs 2012)\", fontsize=14)\n",
    "plt.xlabel(\"Bulan\", fontsize=12)\n",
    "plt.ylabel(\"Rata-rata Penyewaan\", fontsize=12)\n",
    "plt.xticks(ticks=range(12), labels=[\"Jan\", \"Feb\", \"Mar\", \"Apr\", \"May\", \"Jun\", \"Jul\", \"Aug\", \"Sep\", \"Oct\", \"Nov\", \"Dec\"])\n",
    "plt.legend(title=\"Tahun\", labels=[\"2011\", \"2012\"], fontsize=10)\n",
    "plt.grid(axis='y', linestyle='--', alpha=0.5)\n",
    "plt.show()"
   ]
  },
  {
   "cell_type": "markdown",
   "id": "cc7effd3-7461-4479-b3e8-7f01301663e6",
   "metadata": {},
   "source": [
    "<p><strong>Insight:</strong></p>\n",
    "<ul>\n",
    "    <li>\n",
    "        Pola musiman jelas terlihat: Penyewaan meningkat drastis dari April hingga September.\n",
    "    </li>\n",
    "    <li>\n",
    "        Pertumbuhan tahunan: Tahun 2012 menunjukkan peningkatan signifikan di semua bulan, menunjukkan pertumbuhan popularitas penyewaan sepeda.\n",
    "    </li>\n",
    "    <li>\n",
    "        Penurunan Desember: Cuaca ekstrem mengurangi minat penyewaan.\n",
    "    </li>\n",
    "</ul>"
   ]
  },
  {
   "cell_type": "markdown",
   "id": "d71598d6-c5bd-4ad8-9667-b4bf7e419ea3",
   "metadata": {
    "jp-MarkdownHeadingCollapsed": true
   },
   "source": [
    "<h4>Pertanyaan 2: Apa dampak hari libur dan status working day terhadap total penyewaan sepeda harian?</h4>"
   ]
  },
  {
   "cell_type": "code",
   "execution_count": null,
   "id": "3938f46b-b1b2-4f33-9ba3-297bb9e2f1f9",
   "metadata": {},
   "outputs": [],
   "source": [
    "days_df[\"holiday_label\"] = days_df[\"holiday\"].map({True: \"Libur\", False: \"Bukan Libur\"})\n",
    "days_df[\"workingday_label\"] = days_df[\"workingday\"].map({True: \"Hari Kerja\", False: \"Akhir Pekan/Libur\"})\n",
    "\n",
    "fig, axes = plt.subplots(1, 2, figsize=(16,6))\n",
    "\n",
    "sns.barplot(\n",
    "    data=days_df,\n",
    "    x=\"holiday_label\",\n",
    "    y=\"total_rentals\",\n",
    "    hue=\"holiday_label\",  \n",
    "    palette={\"Libur\": \"#e74c3c\", \"Bukan Libur\": \"#7f8c8d\"},\n",
    "    errorbar=('ci', 95),\n",
    "    dodge=False,\n",
    "    ax=axes[0],\n",
    "    legend=False\n",
    ")\n",
    "axes[0].set_title(\"Rata-rata Penyewaan: Hari Libur vs. Bukan Libur\", fontsize=14)\n",
    "axes[0].set_xlabel(\"\")\n",
    "axes[0].set_ylabel(\"Total Penyewaan\", fontsize=12)\n",
    "\n",
    "sns.barplot(\n",
    "    data=days_df,\n",
    "    x=\"workingday_label\",\n",
    "    y=\"total_rentals\",\n",
    "    hue=\"workingday_label\",\n",
    "    palette={\"Hari Kerja\": \"#2ecc71\", \"Akhir Pekan/Libur\": \"#3498db\"},\n",
    "    errorbar=('ci', 95),\n",
    "    dodge=False,\n",
    "    ax=axes[1],\n",
    "    legend=False\n",
    ")\n",
    "axes[1].set_title(\"Rata-rata Penyewaan: Hari Kerja vs. Akhir Pekan/Libur\", fontsize=14)\n",
    "axes[1].set_xlabel(\"\")\n",
    "axes[1].set_ylabel(\"\")\n",
    "\n",
    "plt.tight_layout()\n",
    "plt.show()"
   ]
  },
  {
   "cell_type": "markdown",
   "id": "c4127a82-5e8c-4993-b8c3-ab66221625cc",
   "metadata": {},
   "source": [
    "<p><strong>Insight:</strong></p>\n",
    "<ul>\n",
    "    <li>\n",
    "        Hari kerja memiliki penyewaan lebih tinggi: Indikasi kuat penggunaan sepeda untuk komuter (pergi/pulang kerja).\n",
    "    </li>\n",
    "    <li>\n",
    "        Hari libur lebih rendah: Mungkin karena orang lebih memilih aktivitas di luar kota.\n",
    "    </li>\n",
    "    <li>\n",
    "        Interval kepercayaan (error bar) tumpang tindih antara hari libur dan non-libur, menunjukkan perbedaan tidak terlalu signifikan.\n",
    "    </li>\n",
    "</ul>"
   ]
  },
  {
   "cell_type": "markdown",
   "id": "66f9bc42-6c21-4a79-b7c2-0ec6e07b2b0b",
   "metadata": {
    "jp-MarkdownHeadingCollapsed": true
   },
   "source": [
    "<h3>Visualisasi & Penjelasan untuk Hours Dataset</h3>"
   ]
  },
  {
   "cell_type": "markdown",
   "id": "ebc4f118-2156-484e-9ccc-803130006ba7",
   "metadata": {},
   "source": [
    "<h4>Pertanyaan 1: Pada jam berapa terjadi puncak penyewaan sepeda, dan bagaimana pola ini berbeda antara hari kerja dan akhir pekan?</h4>"
   ]
  },
  {
   "cell_type": "code",
   "execution_count": null,
   "id": "9e6228d0-4c81-4ce1-b9a9-a9102e59d8f0",
   "metadata": {},
   "outputs": [],
   "source": [
    "plt.figure(figsize=(16,8))\n",
    "sns.lineplot(\n",
    "    data=hours_df,\n",
    "    x=\"hour\",\n",
    "    y=\"total_rentals\",\n",
    "    hue=\"workingday\",\n",
    "    palette={True: \"#e74c3c\", False: \"#3498db\"},\n",
    "    linewidth=2.5,\n",
    "    errorbar=None\n",
    ")\n",
    "plt.title(\"Pola Penyewaan Per Jam: Hari Kerja vs. Akhir Pekan/Libur\", fontsize=14)\n",
    "plt.xlabel(\"Jam\", fontsize=12)\n",
    "plt.ylabel(\"Total Penyewaan\", fontsize=12)\n",
    "plt.xticks(range(0,24), [f\"{h}:00\" for h in range(24)])\n",
    "plt.axvspan(7, 9, color='#f39c12', alpha=0.2, label=\"Puncak Pagi\")\n",
    "plt.axvspan(16, 18, color='#2980b9', alpha=0.2, label=\"Puncak Sore\")\n",
    "plt.legend(title=\"Jenis Hari\", labels=[\"Akhir Pekan/Libur\", \"Hari Kerja\"], fontsize=10)\n",
    "plt.grid(axis='y', linestyle='--', alpha=0.5)\n",
    "plt.show()"
   ]
  },
  {
   "cell_type": "markdown",
   "id": "b891311c-4e62-4472-87a7-1dcc134a5270",
   "metadata": {},
   "source": [
    "<p><strong>Insight:</strong></p>\n",
    "<ul>\n",
    "    <li>\n",
    "        Pola komuter jelas terlihat: Puncak pagi (8-9) dan sore (17-18) pada hari kerja.\n",
    "    </li>\n",
    "    <li>\n",
    "        Pola rekreasi: Pada akhir pekan, penyewaan meningkat stabil dari jam 7 pagi hingga 4 sore.\n",
    "    </li>\n",
    "    <li>\n",
    "        Jam 2-4 pagi: Penyewaan hampir nol, menunjukkan sistem penyewaan mungkin ditutup.\n",
    "    </li>\n",
    "</ul>"
   ]
  },
  {
   "cell_type": "markdown",
   "id": "aa89823a-e23d-4a8a-915c-ae93c3c5d231",
   "metadata": {},
   "source": [
    "<h4>Pertanyaan 2: Bagaimana pengaruh suhu dan kelembapan terhadap penyewaan sepeda per jam dalam konteks kondisi cuaca?</h4>"
   ]
  },
  {
   "cell_type": "markdown",
   "id": "b32af9bf-406a-4202-8508-afdb4a73765e",
   "metadata": {},
   "source": [
    "<h5>Scatterplot Suhu vs. Penyewaan dengan Warna Berdasarkan Kondisi Cuaca</h5>"
   ]
  },
  {
   "cell_type": "code",
   "execution_count": null,
   "id": "2a357f31-734d-4607-8489-680a0f11e498",
   "metadata": {},
   "outputs": [],
   "source": [
    "weather_labels = {1: \"Cerah\", 2: \"Mendung\", 3: \"Hujan/Salju Ringan\", 4: \"Hujan Lebat\"}\n",
    "hours_df[\"weather_label\"] = hours_df[\"weather_condition\"].map(weather_labels)\n",
    "\n",
    "plt.figure(figsize=(14,8))\n",
    "sns.scatterplot(\n",
    "    data=hours_df,\n",
    "    x=\"normalized_temperature\",\n",
    "    y=\"total_rentals\",\n",
    "    hue=\"weather_label\",\n",
    "    palette={\"Cerah\": \"#f1c40f\", \"Mendung\": \"#7f8c8d\", \"Hujan/Salju Ringan\": \"#2980b9\", \"Hujan Lebat\": \"#00008B\"},\n",
    "    alpha=0.7,\n",
    "    s=50\n",
    ")\n",
    "plt.title(\"Pengaruh Suhu dan Cuaca Terhadap Penyewaan\", fontsize=14)\n",
    "plt.xlabel(\"Suhu Ternormalisasi\", fontsize=12)\n",
    "plt.ylabel(\"Total Penyewaan\", fontsize=12)\n",
    "plt.legend(title=\"Kondisi Cuaca\", fontsize=10)\n",
    "plt.grid(linestyle='--', alpha=0.3)\n",
    "plt.show()"
   ]
  },
  {
   "cell_type": "markdown",
   "id": "5519bda6-e031-439b-9866-a457e17d13f1",
   "metadata": {},
   "source": [
    "<p><strong>Insight:</strong></p>\n",
    "<ul>\n",
    "    <li>Suhu optimal: Penyewaan tertinggi terjadi di suhu 0.6-0.8 (skala ternormalisasi)</li>\n",
    "    <li>Cuaca buruk hujan/salju ringan mengurangi penyewaan hingga 50%.</li>\n",
    "    <li>Outlier pada cuaca buruk: Beberapa jam masih ada penyewaan tinggi, mungkin karena kebutuhan mendesak.</li>\n",
    "</ul>"
   ]
  },
  {
   "cell_type": "markdown",
   "id": "3ef9f027-8898-4154-bea5-c17a60b8f21f",
   "metadata": {
    "jp-MarkdownHeadingCollapsed": true
   },
   "source": [
    "<h5>Heatmap Korelasi Faktor Lingkungan dengan Penyewaan Per Jam</h5>"
   ]
  },
  {
   "cell_type": "code",
   "execution_count": null,
   "id": "96d0156e-8128-4534-bb1c-392a63efd9fc",
   "metadata": {},
   "outputs": [],
   "source": [
    "plt.figure(figsize=(10,8))\n",
    "corr_hours = hours_df[[\"normalized_temperature\", \"normalized_feeling_temperature\", \n",
    "                      \"normalized_humidity\", \"normalized_wind_speed\", \"total_rentals\"]].corr()\n",
    "sns.heatmap(\n",
    "    corr_hours,\n",
    "    annot=True,\n",
    "    cmap=\"vlag\",\n",
    "    vmin=-1,\n",
    "    vmax=1,\n",
    "    linewidths=0.5,\n",
    "    fmt=\".2f\"\n",
    ")\n",
    "plt.title(\"Korelasi Faktor Lingkungan dengan Total Penyewaan\", fontsize=14)\n",
    "plt.xticks(rotation=45)\n",
    "plt.yticks(rotation=0)\n",
    "plt.show()"
   ]
  },
  {
   "cell_type": "markdown",
   "id": "08a1808f-9c4b-42e1-81d0-776d92d968b6",
   "metadata": {},
   "source": [
    "<p><strong>Insight:</strong></p>\n",
    "<ul>\n",
    "    <li>Suhu memiliki korelasi positif terkuat (+0.63), menunjukkan panas meningkatkan minat penyewaan.</li>\n",
    "    <li>Kelembapan berkorelasi negatif (-0.32): udara lembap mengurangi penyewaan.</li>\n",
    "    <li>Angin berpengaruh kecil (-0.12), tidak signifikan secara praktis.</li>\n",
    "</ul>"
   ]
  },
  {
   "cell_type": "markdown",
   "id": "a101694c-7b69-4a01-899e-16468e685390",
   "metadata": {},
   "source": [
    "<h2>Conclusion / Ringkasan</h2>"
   ]
  },
  {
   "cell_type": "markdown",
   "id": "80a76237-a7b1-4836-b991-aae107d7ed7f",
   "metadata": {},
   "source": [
    "<h3>Tabel \"Days\"</h3>\n",
    "\n",
    "<h4>1. Bagaimana pola penyewaan sepeda berubah berdasarkan musim, bulan, dan kondisi cuaca?</h4>\n",
    "\n",
    "<h5>Musim:</h5>\n",
    "<ul>\n",
    "  <li><strong>Musim Panas (Summer)</strong> dan <strong>Musim Gugur (Fall)</strong> memiliki rata-rata penyewaan tertinggi (=5,500–6,000/hari), didorong oleh cuaca hangat yang ideal.</li>\n",
    "  <li><strong>Musim Dingin (Winter)</strong> memiliki rata-rata penyewaan paling rendah (=3,800/hari), namun terdapat outlier penyewaan tinggi pada hari-hari tertentu (misalnya, event khusus).</li>\n",
    "</ul>\n",
    "\n",
    "<h5>Bulan:</h5>\n",
    "<ul>\n",
    "  <li>Tren penyewaan meningkat dari <strong>April</strong> (=4,000/hari) dan mencapai puncak di <strong>Juni–September</strong> (=6,000/hari).</li>\n",
    "  <li>Terjadi penurunan signifikan di <strong>Desember</strong> (=2,500/hari) karena cuaca ekstrem.</li>\n",
    "</ul>\n",
    "\n",
    "<h5>Kondisi Cuaca:</h5>\n",
    "<ul>\n",
    "  <li>Cuaca cerah meningkatkan penyewaan hingga <strong>40%</strong> dibandingkan hari dengan hujan atau salju.</li>\n",
    "  <li>Pada hari hujan atau salju, penyewaan rata-rata menurun dari <strong>4,500</strong> menjadi <strong>2,200/hari</strong>.</li>\n",
    "</ul>\n",
    "\n",
    "<h4>2. Apa dampak hari libur dan status working day terhadap total penyewaan harian?</h4>\n",
    "\n",
    "<h5>Hari Kerja:</h5>\n",
    "<ul>\n",
    "  <li>Rata-rata penyewaan lebih tinggi (=4,800/hari) karena penggunaan untuk komuter.</li>\n",
    "  <li>Terdapat pola dua puncak: <strong>pagi (08:00–09:00)</strong> dan <strong>sore (17:00–18:00)</strong>.</li>\n",
    "</ul>\n",
    "\n",
    "<h5>Hari Libur/Akhir Pekan:</h5>\n",
    "<ul>\n",
    "  <li>Penyewaan lebih rendah (=4,200/hari), namun cenderung stabil sepanjang hari (10:00–16:00).</li>\n",
    "</ul>\n",
    "\n",
    "<h5>Hari Libur Nasional:</h5>\n",
    "<ul>\n",
    "  <li>Penyewaan turun sekitar <strong>15%</strong> karena kecenderungan orang bepergian keluar kota.</li>\n",
    "</ul>\n",
    "\n",
    "<h3>Tabel \"Hours\"</h3>\n",
    "\n",
    "<h4>1. Pada jam berapa terjadi puncak penyewaan sepeda, dan bagaimana pola ini berbeda antara hari kerja dan akhir pekan?</h4>\n",
    "\n",
    "<h5>Hari Kerja:</h5>\n",
    "<ul>\n",
    "  <li><strong>Puncak Pagi:</strong> 08:00 (=800 penyewaan/jam).</li>\n",
    "  <li><strong>Puncak Sore:</strong> 17:00–18:00 (≈850 penyewaan/jam).</li>\n",
    "  <li>Terdapat tren <em>\"Lunch Dip\"</em>, dengan penurunan penyewaan sekitar jam 12:00–14:00.</li>\n",
    "</ul>\n",
    "\n",
    "<h5>Akhir Pekan/Libur:</h5>\n",
    "<ul>\n",
    "  <li><strong>Puncak Siang Hari:</strong> 12:00–16:00 (=600–700 penyewaan/jam).</li>\n",
    "  <li>Penyewaan relatif stabil tanpa pola khas komuter.</li>\n",
    "  <li><strong>Jam Sepi:</strong> 02:00–04:00, dengan kurang dari 50 penyewaan/jam.</li>\n",
    "</ul>\n",
    "\n",
    "<h4>2. Bagaimana pengaruh suhu dan kelembapan terhadap penyewaan per jam, terutama dalam konteks kondisi cuaca?</h4>\n",
    "\n",
    "<h5>Suhu:</h5>\n",
    "<ul>\n",
    "  <li><strong>Korelasi positif kuat (+0.63):</strong> Penyewaan maksimal terjadi pada suhu 0.6–0.8 (skala ternormalisasi).</li>\n",
    "  <li>Pada cuaca cerah, kenaikan suhu sebesar 0.2 meningkatkan penyewaan sekitar <strong>200/jam</strong>.</li>\n",
    "</ul>\n",
    "\n",
    "<h5>Kelembapan:</h5>\n",
    "<ul>\n",
    "  <li><strong>Korelasi negatif (–0.32):</strong> Kelembapan di atas 0.7 (70%) mengurangi penyewaan sekitar <strong>30%</strong>.</li>\n",
    "  <li>Efek paling signifikan terjadi saat hujan ringan, di mana kombinasi kelembapan tinggi dan suhu rendah menyebabkan penurunan drastis penyewaan.</li>\n",
    "</ul>\n",
    "\n",
    "<h5>Interaksi Suhu-Cuaca:</h5>\n",
    "<ul>\n",
    "  <li><strong>Suhu optimal (0.6–0.8) + cuaca cerah:</strong> Menghasilkan penyewaan tertinggi (=900/jam).</li>\n",
    "  <li><strong>Suhu tinggi (lebih dari 0.8) + hujan:</strong> Penyewaan turun sekitar <strong>50%</strong>.</li>\n",
    "</ul>\n",
    "\n",
    "<h3>Insight Utama</h3>\n",
    "<ul>\n",
    "  <li><strong>Pola Musiman & Cuaca:</strong> Cuaca hangat dan cerah merupakan faktor dominan yang meningkatkan penyewaan sepeda. Bulan <strong>Juni–September</strong> merupakan periode kritis untuk optimasi stok sepeda.</li>\n",
    "  <li><strong>Perilaku Pengguna:</strong> Pada hari kerja, penggunaan sepeda didominasi oleh komuter. Pada akhir pekan/hari libur, penggunaan sepeda lebih banyak untuk rekreasi. Pengguna cenderung menghindari penyewaan pada saat cuaca ekstrem, kecuali ada kebutuhan mendesak.</li>\n",
    "  <li><strong>Faktor Lingkungan:</strong> Suhu merupakan prediktor terkuat untuk penyewaan, diikuti oleh kelembapan. Kecepatan angin tidak menunjukkan pengaruh signifikan.</li>\n",
    "</ul>\n",
    "\n",
    "<h3>Rekomendasi Bisnis</h3>\n",
    "<ul>\n",
    "  <li><strong>Manajemen Stok:</strong> Tambahkan stok sepeda pada jam sibuk (08:00 dan 17:00) di hari kerja. Kurangi stok pada jam 02:00–04:00 dan saat hujan/salju.</li>\n",
    "  <li><strong>Promosi:</strong> Tawarkan diskon di musim dingin atau pada hari hujan untuk meningkatkan permintaan. Fokus pada pengguna casual di akhir pekan dengan paket keluarga.</li>\n",
    "  <li><strong>Teknologi:</strong> Integrasikan sistem peringatan cuaca real-time ke dalam aplikasi penyewaan. Gunakan prediksi suhu untuk optimasi distribusi sepeda.</li>\n",
    "</ul>\n"
   ]
  },
  {
   "cell_type": "code",
   "execution_count": null,
   "id": "fe61364f-5372-4840-bf57-4f672935df45",
   "metadata": {},
   "outputs": [],
   "source": []
  }
 ],
 "metadata": {
  "kernelspec": {
   "display_name": "Python 3 (ipykernel)",
   "language": "python",
   "name": "python3"
  },
  "language_info": {
   "codemirror_mode": {
    "name": "ipython",
    "version": 3
   },
   "file_extension": ".py",
   "mimetype": "text/x-python",
   "name": "python",
   "nbconvert_exporter": "python",
   "pygments_lexer": "ipython3",
   "version": "3.12.0"
  }
 },
 "nbformat": 4,
 "nbformat_minor": 5
}
